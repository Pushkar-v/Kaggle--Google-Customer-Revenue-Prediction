{
 "cells": [
  {
   "cell_type": "code",
   "execution_count": 1,
   "metadata": {},
   "outputs": [],
   "source": [
    "import os\n",
    "import json\n",
    "import swifter\n",
    "import numpy as np\n",
    "\n",
    "from pandas.io.json import json_normalize\n",
    "from ast import literal_eval\n",
    "import time\n",
    "import datetime\n",
    "\n",
    "from sklearn.preprocessing import OneHotEncoder\n",
    "import warnings\n",
    "warnings.filterwarnings(\"ignore\")\n",
    "import pandas as pd"
   ]
  },
  {
   "cell_type": "code",
   "execution_count": 153,
   "metadata": {},
   "outputs": [
    {
     "name": "stdout",
     "output_type": "stream",
     "text": [
      "110.80548810958862\n"
     ]
    }
   ],
   "source": [
    "a = time.time()\n",
    "JSON_COLUMNS = ['device', 'geoNetwork', 'totals', 'trafficSource']\n",
    "COLUMNS = ['fullVisitorId', 'date', 'totals']\n",
    "data = pd.read_csv(r'raw_data/train_v2.csv', converters={column: json.loads for column in JSON_COLUMNS},dtype={'fullVisitorId': 'str'}, usecols = COLUMNS, parse_dates = ['date'])\n",
    "data.head()\n",
    "print(time.time() - a)"
   ]
  },
  {
   "cell_type": "code",
   "execution_count": 154,
   "metadata": {},
   "outputs": [
    {
     "data": {
      "text/plain": [
       "date             datetime64[ns]\n",
       "fullVisitorId            object\n",
       "totals                   object\n",
       "dtype: object"
      ]
     },
     "execution_count": 154,
     "metadata": {},
     "output_type": "execute_result"
    }
   ],
   "source": [
    "data.dtypes"
   ]
  },
  {
   "cell_type": "code",
   "execution_count": 18,
   "metadata": {},
   "outputs": [
    {
     "name": "stdout",
     "output_type": "stream",
     "text": [
      "2017-02-16 00:00:00\n"
     ]
    }
   ],
   "source": [
    "date2 = '20170101'\n",
    "to_date = datetime.datetime.strptime(date2, \"%Y%m%d\")\n",
    "\n",
    "future1 = to_date + datetime.timedelta(days=46)\n",
    "future2 = to_date + datetime.timedelta(days=108)\n",
    "print(future1)"
   ]
  },
  {
   "cell_type": "code",
   "execution_count": 19,
   "metadata": {},
   "outputs": [],
   "source": [
    "data2 = data[(data['date']>=future1) & (data['date']<=future2)]"
   ]
  },
  {
   "cell_type": "code",
   "execution_count": 9,
   "metadata": {},
   "outputs": [
    {
     "data": {
      "text/html": [
       "<div>\n",
       "<style scoped>\n",
       "    .dataframe tbody tr th:only-of-type {\n",
       "        vertical-align: middle;\n",
       "    }\n",
       "\n",
       "    .dataframe tbody tr th {\n",
       "        vertical-align: top;\n",
       "    }\n",
       "\n",
       "    .dataframe thead th {\n",
       "        text-align: right;\n",
       "    }\n",
       "</style>\n",
       "<table border=\"1\" class=\"dataframe\">\n",
       "  <thead>\n",
       "    <tr style=\"text-align: right;\">\n",
       "      <th></th>\n",
       "      <th>fullVisitorId</th>\n",
       "      <th>visits</th>\n",
       "      <th>(Other)</th>\n",
       "      <th>Affiliates</th>\n",
       "      <th>Direct</th>\n",
       "      <th>Display</th>\n",
       "      <th>Organic Search</th>\n",
       "      <th>Paid Search</th>\n",
       "      <th>Referral</th>\n",
       "      <th>Social</th>\n",
       "      <th>...</th>\n",
       "      <th>trafSrc_isTrueDir_isNULL</th>\n",
       "      <th>trafSrc_isTrueDir_True</th>\n",
       "      <th>trafSrc_kw_others</th>\n",
       "      <th>trafSrc_kw_isNULL</th>\n",
       "      <th>trafSrc_medium_org</th>\n",
       "      <th>trafSrc_medium_ref</th>\n",
       "      <th>trafSrc_medium_isNULL</th>\n",
       "      <th>trafSrc_medium_cpc</th>\n",
       "      <th>trafSrc_medium_aff</th>\n",
       "      <th>trafSrc_medium_cpm</th>\n",
       "    </tr>\n",
       "  </thead>\n",
       "  <tbody>\n",
       "    <tr>\n",
       "      <td>0</td>\n",
       "      <td>10278554503158</td>\n",
       "      <td>1</td>\n",
       "      <td>0</td>\n",
       "      <td>0</td>\n",
       "      <td>0</td>\n",
       "      <td>0</td>\n",
       "      <td>1</td>\n",
       "      <td>0</td>\n",
       "      <td>0</td>\n",
       "      <td>0</td>\n",
       "      <td>...</td>\n",
       "      <td>1</td>\n",
       "      <td>0</td>\n",
       "      <td>1</td>\n",
       "      <td>0</td>\n",
       "      <td>0</td>\n",
       "      <td>0</td>\n",
       "      <td>0</td>\n",
       "      <td>1</td>\n",
       "      <td>0</td>\n",
       "      <td>0</td>\n",
       "    </tr>\n",
       "    <tr>\n",
       "      <td>1</td>\n",
       "      <td>20424342248747</td>\n",
       "      <td>1</td>\n",
       "      <td>0</td>\n",
       "      <td>0</td>\n",
       "      <td>0</td>\n",
       "      <td>0</td>\n",
       "      <td>1</td>\n",
       "      <td>0</td>\n",
       "      <td>0</td>\n",
       "      <td>0</td>\n",
       "      <td>...</td>\n",
       "      <td>1</td>\n",
       "      <td>0</td>\n",
       "      <td>0</td>\n",
       "      <td>1</td>\n",
       "      <td>0</td>\n",
       "      <td>1</td>\n",
       "      <td>0</td>\n",
       "      <td>0</td>\n",
       "      <td>0</td>\n",
       "      <td>0</td>\n",
       "    </tr>\n",
       "    <tr>\n",
       "      <td>2</td>\n",
       "      <td>5103959234087</td>\n",
       "      <td>1</td>\n",
       "      <td>0</td>\n",
       "      <td>0</td>\n",
       "      <td>0</td>\n",
       "      <td>0</td>\n",
       "      <td>1</td>\n",
       "      <td>0</td>\n",
       "      <td>0</td>\n",
       "      <td>0</td>\n",
       "      <td>...</td>\n",
       "      <td>1</td>\n",
       "      <td>0</td>\n",
       "      <td>0</td>\n",
       "      <td>1</td>\n",
       "      <td>0</td>\n",
       "      <td>1</td>\n",
       "      <td>0</td>\n",
       "      <td>0</td>\n",
       "      <td>0</td>\n",
       "      <td>0</td>\n",
       "    </tr>\n",
       "    <tr>\n",
       "      <td>3</td>\n",
       "      <td>93957001069502</td>\n",
       "      <td>1</td>\n",
       "      <td>0</td>\n",
       "      <td>0</td>\n",
       "      <td>0</td>\n",
       "      <td>0</td>\n",
       "      <td>1</td>\n",
       "      <td>0</td>\n",
       "      <td>0</td>\n",
       "      <td>0</td>\n",
       "      <td>...</td>\n",
       "      <td>1</td>\n",
       "      <td>0</td>\n",
       "      <td>0</td>\n",
       "      <td>1</td>\n",
       "      <td>0</td>\n",
       "      <td>0</td>\n",
       "      <td>0</td>\n",
       "      <td>0</td>\n",
       "      <td>0</td>\n",
       "      <td>0</td>\n",
       "    </tr>\n",
       "    <tr>\n",
       "      <td>4</td>\n",
       "      <td>114156543135683</td>\n",
       "      <td>1</td>\n",
       "      <td>0</td>\n",
       "      <td>0</td>\n",
       "      <td>0</td>\n",
       "      <td>0</td>\n",
       "      <td>0</td>\n",
       "      <td>0</td>\n",
       "      <td>0</td>\n",
       "      <td>1</td>\n",
       "      <td>...</td>\n",
       "      <td>1</td>\n",
       "      <td>0</td>\n",
       "      <td>0</td>\n",
       "      <td>1</td>\n",
       "      <td>0</td>\n",
       "      <td>0</td>\n",
       "      <td>0</td>\n",
       "      <td>0</td>\n",
       "      <td>0</td>\n",
       "      <td>0</td>\n",
       "    </tr>\n",
       "    <tr>\n",
       "      <td>...</td>\n",
       "      <td>...</td>\n",
       "      <td>...</td>\n",
       "      <td>...</td>\n",
       "      <td>...</td>\n",
       "      <td>...</td>\n",
       "      <td>...</td>\n",
       "      <td>...</td>\n",
       "      <td>...</td>\n",
       "      <td>...</td>\n",
       "      <td>...</td>\n",
       "      <td>...</td>\n",
       "      <td>...</td>\n",
       "      <td>...</td>\n",
       "      <td>...</td>\n",
       "      <td>...</td>\n",
       "      <td>...</td>\n",
       "      <td>...</td>\n",
       "      <td>...</td>\n",
       "      <td>...</td>\n",
       "      <td>...</td>\n",
       "      <td>...</td>\n",
       "    </tr>\n",
       "    <tr>\n",
       "      <td>377181</td>\n",
       "      <td>9999761280717362235</td>\n",
       "      <td>2</td>\n",
       "      <td>0</td>\n",
       "      <td>0</td>\n",
       "      <td>0</td>\n",
       "      <td>0</td>\n",
       "      <td>0</td>\n",
       "      <td>2</td>\n",
       "      <td>0</td>\n",
       "      <td>0</td>\n",
       "      <td>...</td>\n",
       "      <td>2</td>\n",
       "      <td>0</td>\n",
       "      <td>0</td>\n",
       "      <td>2</td>\n",
       "      <td>0</td>\n",
       "      <td>0</td>\n",
       "      <td>0</td>\n",
       "      <td>0</td>\n",
       "      <td>0</td>\n",
       "      <td>0</td>\n",
       "    </tr>\n",
       "    <tr>\n",
       "      <td>377182</td>\n",
       "      <td>9999774833256469931</td>\n",
       "      <td>1</td>\n",
       "      <td>0</td>\n",
       "      <td>0</td>\n",
       "      <td>0</td>\n",
       "      <td>0</td>\n",
       "      <td>1</td>\n",
       "      <td>0</td>\n",
       "      <td>0</td>\n",
       "      <td>0</td>\n",
       "      <td>...</td>\n",
       "      <td>1</td>\n",
       "      <td>0</td>\n",
       "      <td>0</td>\n",
       "      <td>1</td>\n",
       "      <td>0</td>\n",
       "      <td>0</td>\n",
       "      <td>0</td>\n",
       "      <td>0</td>\n",
       "      <td>0</td>\n",
       "      <td>0</td>\n",
       "    </tr>\n",
       "    <tr>\n",
       "      <td>377183</td>\n",
       "      <td>9999801229043043045</td>\n",
       "      <td>1</td>\n",
       "      <td>0</td>\n",
       "      <td>0</td>\n",
       "      <td>1</td>\n",
       "      <td>0</td>\n",
       "      <td>0</td>\n",
       "      <td>0</td>\n",
       "      <td>0</td>\n",
       "      <td>0</td>\n",
       "      <td>...</td>\n",
       "      <td>1</td>\n",
       "      <td>0</td>\n",
       "      <td>0</td>\n",
       "      <td>1</td>\n",
       "      <td>0</td>\n",
       "      <td>0</td>\n",
       "      <td>1</td>\n",
       "      <td>0</td>\n",
       "      <td>0</td>\n",
       "      <td>0</td>\n",
       "    </tr>\n",
       "    <tr>\n",
       "      <td>377184</td>\n",
       "      <td>9999887420016307570</td>\n",
       "      <td>1</td>\n",
       "      <td>0</td>\n",
       "      <td>0</td>\n",
       "      <td>0</td>\n",
       "      <td>0</td>\n",
       "      <td>1</td>\n",
       "      <td>0</td>\n",
       "      <td>0</td>\n",
       "      <td>0</td>\n",
       "      <td>...</td>\n",
       "      <td>1</td>\n",
       "      <td>0</td>\n",
       "      <td>1</td>\n",
       "      <td>0</td>\n",
       "      <td>1</td>\n",
       "      <td>0</td>\n",
       "      <td>0</td>\n",
       "      <td>0</td>\n",
       "      <td>0</td>\n",
       "      <td>0</td>\n",
       "    </tr>\n",
       "    <tr>\n",
       "      <td>377185</td>\n",
       "      <td>999997225970956660</td>\n",
       "      <td>1</td>\n",
       "      <td>0</td>\n",
       "      <td>0</td>\n",
       "      <td>0</td>\n",
       "      <td>0</td>\n",
       "      <td>1</td>\n",
       "      <td>0</td>\n",
       "      <td>0</td>\n",
       "      <td>0</td>\n",
       "      <td>...</td>\n",
       "      <td>0</td>\n",
       "      <td>0</td>\n",
       "      <td>0</td>\n",
       "      <td>1</td>\n",
       "      <td>0</td>\n",
       "      <td>0</td>\n",
       "      <td>1</td>\n",
       "      <td>0</td>\n",
       "      <td>0</td>\n",
       "      <td>0</td>\n",
       "    </tr>\n",
       "  </tbody>\n",
       "</table>\n",
       "<p>377186 rows × 46 columns</p>\n",
       "</div>"
      ],
      "text/plain": [
       "              fullVisitorId  visits  (Other)  Affiliates  Direct  Display  \\\n",
       "0            10278554503158       1        0           0       0        0   \n",
       "1            20424342248747       1        0           0       0        0   \n",
       "2             5103959234087       1        0           0       0        0   \n",
       "3            93957001069502       1        0           0       0        0   \n",
       "4           114156543135683       1        0           0       0        0   \n",
       "...                     ...     ...      ...         ...     ...      ...   \n",
       "377181  9999761280717362235       2        0           0       0        0   \n",
       "377182  9999774833256469931       1        0           0       0        0   \n",
       "377183  9999801229043043045       1        0           0       1        0   \n",
       "377184  9999887420016307570       1        0           0       0        0   \n",
       "377185   999997225970956660       1        0           0       0        0   \n",
       "\n",
       "        Organic Search  Paid Search  Referral  Social  ...  \\\n",
       "0                    1            0         0       0  ...   \n",
       "1                    1            0         0       0  ...   \n",
       "2                    1            0         0       0  ...   \n",
       "3                    1            0         0       0  ...   \n",
       "4                    0            0         0       1  ...   \n",
       "...                ...          ...       ...     ...  ...   \n",
       "377181               0            2         0       0  ...   \n",
       "377182               1            0         0       0  ...   \n",
       "377183               0            0         0       0  ...   \n",
       "377184               1            0         0       0  ...   \n",
       "377185               1            0         0       0  ...   \n",
       "\n",
       "        trafSrc_isTrueDir_isNULL  trafSrc_isTrueDir_True  trafSrc_kw_others  \\\n",
       "0                              1                       0                  1   \n",
       "1                              1                       0                  0   \n",
       "2                              1                       0                  0   \n",
       "3                              1                       0                  0   \n",
       "4                              1                       0                  0   \n",
       "...                          ...                     ...                ...   \n",
       "377181                         2                       0                  0   \n",
       "377182                         1                       0                  0   \n",
       "377183                         1                       0                  0   \n",
       "377184                         1                       0                  1   \n",
       "377185                         0                       0                  0   \n",
       "\n",
       "        trafSrc_kw_isNULL  trafSrc_medium_org  trafSrc_medium_ref  \\\n",
       "0                       0                   0                   0   \n",
       "1                       1                   0                   1   \n",
       "2                       1                   0                   1   \n",
       "3                       1                   0                   0   \n",
       "4                       1                   0                   0   \n",
       "...                   ...                 ...                 ...   \n",
       "377181                  2                   0                   0   \n",
       "377182                  1                   0                   0   \n",
       "377183                  1                   0                   0   \n",
       "377184                  0                   1                   0   \n",
       "377185                  1                   0                   0   \n",
       "\n",
       "        trafSrc_medium_isNULL  trafSrc_medium_cpc  trafSrc_medium_aff  \\\n",
       "0                           0                   1                   0   \n",
       "1                           0                   0                   0   \n",
       "2                           0                   0                   0   \n",
       "3                           0                   0                   0   \n",
       "4                           0                   0                   0   \n",
       "...                       ...                 ...                 ...   \n",
       "377181                      0                   0                   0   \n",
       "377182                      0                   0                   0   \n",
       "377183                      1                   0                   0   \n",
       "377184                      0                   0                   0   \n",
       "377185                      1                   0                   0   \n",
       "\n",
       "        trafSrc_medium_cpm  \n",
       "0                        0  \n",
       "1                        0  \n",
       "2                        0  \n",
       "3                        0  \n",
       "4                        0  \n",
       "...                    ...  \n",
       "377181                   0  \n",
       "377182                   0  \n",
       "377183                   0  \n",
       "377184                   0  \n",
       "377185                   0  \n",
       "\n",
       "[377186 rows x 46 columns]"
      ]
     },
     "execution_count": 9,
     "metadata": {},
     "output_type": "execute_result"
    }
   ],
   "source": [
    "df0 = pd.read_csv(r'predictive_alok/train_data_class/train0.csv')\n",
    "df0.drop(['LogRevenue', 'Purchase'], axis = 1)"
   ]
  },
  {
   "cell_type": "code",
   "execution_count": 29,
   "metadata": {},
   "outputs": [
    {
     "data": {
      "text/html": [
       "<div>\n",
       "<style scoped>\n",
       "    .dataframe tbody tr th:only-of-type {\n",
       "        vertical-align: middle;\n",
       "    }\n",
       "\n",
       "    .dataframe tbody tr th {\n",
       "        vertical-align: top;\n",
       "    }\n",
       "\n",
       "    .dataframe thead th {\n",
       "        text-align: right;\n",
       "    }\n",
       "</style>\n",
       "<table border=\"1\" class=\"dataframe\">\n",
       "  <thead>\n",
       "    <tr style=\"text-align: right;\">\n",
       "      <th></th>\n",
       "      <th>fullVisitorId</th>\n",
       "      <th>LogRevenue</th>\n",
       "      <th>Purchase</th>\n",
       "      <th>visits</th>\n",
       "      <th>(Other)</th>\n",
       "      <th>Affiliates</th>\n",
       "      <th>Direct</th>\n",
       "      <th>Display</th>\n",
       "      <th>Organic Search</th>\n",
       "      <th>Paid Search</th>\n",
       "      <th>...</th>\n",
       "      <th>trafSrc_isTrueDir_isNULL</th>\n",
       "      <th>trafSrc_isTrueDir_True</th>\n",
       "      <th>trafSrc_kw_others</th>\n",
       "      <th>trafSrc_kw_isNULL</th>\n",
       "      <th>trafSrc_medium_org</th>\n",
       "      <th>trafSrc_medium_ref</th>\n",
       "      <th>trafSrc_medium_isNULL</th>\n",
       "      <th>trafSrc_medium_cpc</th>\n",
       "      <th>trafSrc_medium_aff</th>\n",
       "      <th>trafSrc_medium_cpm</th>\n",
       "    </tr>\n",
       "  </thead>\n",
       "  <tbody>\n",
       "    <tr>\n",
       "      <td>0</td>\n",
       "      <td>10278554503158</td>\n",
       "      <td>0.0</td>\n",
       "      <td>0</td>\n",
       "      <td>1</td>\n",
       "      <td>0</td>\n",
       "      <td>0</td>\n",
       "      <td>0</td>\n",
       "      <td>0</td>\n",
       "      <td>1</td>\n",
       "      <td>0</td>\n",
       "      <td>...</td>\n",
       "      <td>1</td>\n",
       "      <td>0</td>\n",
       "      <td>1</td>\n",
       "      <td>0</td>\n",
       "      <td>0</td>\n",
       "      <td>0</td>\n",
       "      <td>0</td>\n",
       "      <td>1</td>\n",
       "      <td>0</td>\n",
       "      <td>0</td>\n",
       "    </tr>\n",
       "    <tr>\n",
       "      <td>1</td>\n",
       "      <td>20424342248747</td>\n",
       "      <td>0.0</td>\n",
       "      <td>0</td>\n",
       "      <td>1</td>\n",
       "      <td>0</td>\n",
       "      <td>0</td>\n",
       "      <td>0</td>\n",
       "      <td>0</td>\n",
       "      <td>1</td>\n",
       "      <td>0</td>\n",
       "      <td>...</td>\n",
       "      <td>1</td>\n",
       "      <td>0</td>\n",
       "      <td>0</td>\n",
       "      <td>1</td>\n",
       "      <td>0</td>\n",
       "      <td>1</td>\n",
       "      <td>0</td>\n",
       "      <td>0</td>\n",
       "      <td>0</td>\n",
       "      <td>0</td>\n",
       "    </tr>\n",
       "    <tr>\n",
       "      <td>2</td>\n",
       "      <td>5103959234087</td>\n",
       "      <td>0.0</td>\n",
       "      <td>0</td>\n",
       "      <td>1</td>\n",
       "      <td>0</td>\n",
       "      <td>0</td>\n",
       "      <td>0</td>\n",
       "      <td>0</td>\n",
       "      <td>1</td>\n",
       "      <td>0</td>\n",
       "      <td>...</td>\n",
       "      <td>1</td>\n",
       "      <td>0</td>\n",
       "      <td>0</td>\n",
       "      <td>1</td>\n",
       "      <td>0</td>\n",
       "      <td>1</td>\n",
       "      <td>0</td>\n",
       "      <td>0</td>\n",
       "      <td>0</td>\n",
       "      <td>0</td>\n",
       "    </tr>\n",
       "    <tr>\n",
       "      <td>3</td>\n",
       "      <td>93957001069502</td>\n",
       "      <td>0.0</td>\n",
       "      <td>0</td>\n",
       "      <td>1</td>\n",
       "      <td>0</td>\n",
       "      <td>0</td>\n",
       "      <td>0</td>\n",
       "      <td>0</td>\n",
       "      <td>1</td>\n",
       "      <td>0</td>\n",
       "      <td>...</td>\n",
       "      <td>1</td>\n",
       "      <td>0</td>\n",
       "      <td>0</td>\n",
       "      <td>1</td>\n",
       "      <td>0</td>\n",
       "      <td>0</td>\n",
       "      <td>0</td>\n",
       "      <td>0</td>\n",
       "      <td>0</td>\n",
       "      <td>0</td>\n",
       "    </tr>\n",
       "    <tr>\n",
       "      <td>4</td>\n",
       "      <td>114156543135683</td>\n",
       "      <td>0.0</td>\n",
       "      <td>0</td>\n",
       "      <td>1</td>\n",
       "      <td>0</td>\n",
       "      <td>0</td>\n",
       "      <td>0</td>\n",
       "      <td>0</td>\n",
       "      <td>0</td>\n",
       "      <td>0</td>\n",
       "      <td>...</td>\n",
       "      <td>1</td>\n",
       "      <td>0</td>\n",
       "      <td>0</td>\n",
       "      <td>1</td>\n",
       "      <td>0</td>\n",
       "      <td>0</td>\n",
       "      <td>0</td>\n",
       "      <td>0</td>\n",
       "      <td>0</td>\n",
       "      <td>0</td>\n",
       "    </tr>\n",
       "  </tbody>\n",
       "</table>\n",
       "<p>5 rows × 48 columns</p>\n",
       "</div>"
      ],
      "text/plain": [
       "     fullVisitorId  LogRevenue  Purchase  visits  (Other)  Affiliates  Direct  \\\n",
       "0   10278554503158         0.0         0       1        0           0       0   \n",
       "1   20424342248747         0.0         0       1        0           0       0   \n",
       "2    5103959234087         0.0         0       1        0           0       0   \n",
       "3   93957001069502         0.0         0       1        0           0       0   \n",
       "4  114156543135683         0.0         0       1        0           0       0   \n",
       "\n",
       "   Display  Organic Search  Paid Search  ...  trafSrc_isTrueDir_isNULL  \\\n",
       "0        0               1            0  ...                         1   \n",
       "1        0               1            0  ...                         1   \n",
       "2        0               1            0  ...                         1   \n",
       "3        0               1            0  ...                         1   \n",
       "4        0               0            0  ...                         1   \n",
       "\n",
       "   trafSrc_isTrueDir_True  trafSrc_kw_others  trafSrc_kw_isNULL  \\\n",
       "0                       0                  1                  0   \n",
       "1                       0                  0                  1   \n",
       "2                       0                  0                  1   \n",
       "3                       0                  0                  1   \n",
       "4                       0                  0                  1   \n",
       "\n",
       "   trafSrc_medium_org  trafSrc_medium_ref  trafSrc_medium_isNULL  \\\n",
       "0                   0                   0                      0   \n",
       "1                   0                   1                      0   \n",
       "2                   0                   1                      0   \n",
       "3                   0                   0                      0   \n",
       "4                   0                   0                      0   \n",
       "\n",
       "   trafSrc_medium_cpc  trafSrc_medium_aff  trafSrc_medium_cpm  \n",
       "0                   1                   0                   0  \n",
       "1                   0                   0                   0  \n",
       "2                   0                   0                   0  \n",
       "3                   0                   0                   0  \n",
       "4                   0                   0                   0  \n",
       "\n",
       "[5 rows x 48 columns]"
      ]
     },
     "execution_count": 29,
     "metadata": {},
     "output_type": "execute_result"
    }
   ],
   "source": [
    "df0.head()"
   ]
  },
  {
   "cell_type": "code",
   "execution_count": 189,
   "metadata": {},
   "outputs": [],
   "source": [
    "def target_variable(data, date1, date2, file):\n",
    "#     print(date1, date2)\n",
    "    from_date = datetime.datetime.strptime(date1, \"%Y%m%d\")\n",
    "    to_date = datetime.datetime.strptime(date2, \"%Y%m%d\")\n",
    "    future1 = to_date + datetime.timedelta(days=46)\n",
    "    future2 = to_date + datetime.timedelta(days=108)    \n",
    "#     print('\\n')\n",
    "#     print(from_date, to_date, future1, future2)\n",
    "    \n",
    "    data1 = data[(data['date']>=from_date) & (data['date']<=to_date)]\n",
    "    data1 = data1[['fullVisitorId']].drop_duplicates()\n",
    "    future = data[(data['date']>=future1) & (data['date']<=future2)].reset_index()\n",
    "    visitorID = future.fullVisitorId.unique()\n",
    "    \n",
    "    JSON_COLUMNS = ['totals']\n",
    "    for column in JSON_COLUMNS:\n",
    "        column_as_df = json_normalize(future[column])\n",
    "        column_as_df.columns = [f\"{column}.{subcolumn}\" for subcolumn in column_as_df.columns]\n",
    "        future = future.drop(column, axis=1).merge(column_as_df, right_index=True, left_index=True, how = 'left')\n",
    "    \n",
    "    returned_customers = future[future['fullVisitorId'].isin(visitorID)]\n",
    "    df_target = returned_customers[['fullVisitorId', 'totals.transactionRevenue']]\n",
    "    df_target['totals.transactionRevenue'] = df_target['totals.transactionRevenue'].astype(float)\n",
    "    df_target = df_target.fillna(0)\n",
    "    df_target = df_target.groupby('fullVisitorId').agg({'totals.transactionRevenue':'sum'})\n",
    "    df_target['LogRevenue_y'] = np.log(df_target['totals.transactionRevenue'].astype(float) + 1)\n",
    "    df_target['Purchase_y'] = df_target['LogRevenue_y'].swifter.apply(flag)\n",
    "    df_target = df_target[['LogRevenue_y', 'Purchase_y']].reset_index()\n",
    "    \n",
    "    final  = pd.merge(data1, df_target, on = 'fullVisitorId', how = 'left')\n",
    "    final = final.fillna(0)\n",
    "    \n",
    "    path = 'predictive_alok/train_data_class/train' + file + '.csv'\n",
    "    path2 = 'predictive_alok/train_data_class/final_final/train' + file + '.csv'\n",
    "    df0 = pd.read_csv(path,dtype={'fullVisitorId': 'str'})\n",
    "    final = pd.merge(final, df0, on = 'fullVisitorId')\n",
    "    print(final.groupby('Purchase').size())\n",
    "    final.to_csv(path2, index = False)\n",
    "    print('done!')\n",
    "    return 1 "
   ]
  },
  {
   "cell_type": "code",
   "execution_count": 190,
   "metadata": {},
   "outputs": [
    {
     "data": {
      "application/vnd.jupyter.widget-view+json": {
       "model_id": "a318ed8c48df4e389488bac9140b6cef",
       "version_major": 2,
       "version_minor": 0
      },
      "text/plain": [
       "HBox(children=(IntProgress(value=0, description='Pandas Apply', max=115289, style=ProgressStyle(description_wi…"
      ]
     },
     "metadata": {},
     "output_type": "display_data"
    },
    {
     "name": "stdout",
     "output_type": "stream",
     "text": [
      "\n",
      "Purchase\n",
      "0    375492\n",
      "1      1694\n",
      "dtype: int64\n",
      "done!\n"
     ]
    },
    {
     "data": {
      "application/vnd.jupyter.widget-view+json": {
       "model_id": "602640cb641f4efc89550351b797a95d",
       "version_major": 2,
       "version_minor": 0
      },
      "text/plain": [
       "HBox(children=(IntProgress(value=0, description='Pandas Apply', max=108709, style=ProgressStyle(description_wi…"
      ]
     },
     "metadata": {},
     "output_type": "display_data"
    },
    {
     "name": "stdout",
     "output_type": "stream",
     "text": [
      "\n",
      "Purchase\n",
      "0    370255\n",
      "1      1711\n",
      "dtype: int64\n",
      "done!\n"
     ]
    },
    {
     "data": {
      "application/vnd.jupyter.widget-view+json": {
       "model_id": "5822a1a93ffd4c57b080bfde02115f56",
       "version_major": 2,
       "version_minor": 0
      },
      "text/plain": [
       "HBox(children=(IntProgress(value=0, description='Pandas Apply', max=104987, style=ProgressStyle(description_wi…"
      ]
     },
     "metadata": {},
     "output_type": "display_data"
    },
    {
     "name": "stdout",
     "output_type": "stream",
     "text": [
      "\n",
      "Purchase\n",
      "0    363613\n",
      "1      1749\n",
      "dtype: int64\n",
      "done!\n"
     ]
    },
    {
     "data": {
      "application/vnd.jupyter.widget-view+json": {
       "model_id": "87f71e530de64df6a14bc011ab9485a0",
       "version_major": 2,
       "version_minor": 0
      },
      "text/plain": [
       "HBox(children=(IntProgress(value=0, description='Pandas Apply', max=111998, style=ProgressStyle(description_wi…"
      ]
     },
     "metadata": {},
     "output_type": "display_data"
    },
    {
     "name": "stdout",
     "output_type": "stream",
     "text": [
      "\n",
      "Purchase\n",
      "0    338446\n",
      "1      1532\n",
      "dtype: int64\n",
      "done!\n"
     ]
    },
    {
     "data": {
      "application/vnd.jupyter.widget-view+json": {
       "model_id": "24a298780f4d44f7a9a71e25a4a0649d",
       "version_major": 2,
       "version_minor": 0
      },
      "text/plain": [
       "HBox(children=(IntProgress(value=0, description='Pandas Apply', max=127456, style=ProgressStyle(description_wi…"
      ]
     },
     "metadata": {},
     "output_type": "display_data"
    },
    {
     "name": "stdout",
     "output_type": "stream",
     "text": [
      "\n",
      "Purchase\n",
      "0    292514\n",
      "1      1020\n",
      "dtype: int64\n",
      "done!\n"
     ]
    },
    {
     "data": {
      "application/vnd.jupyter.widget-view+json": {
       "model_id": "86117d8a51ba41e59a82d820ecfb3419",
       "version_major": 2,
       "version_minor": 0
      },
      "text/plain": [
       "HBox(children=(IntProgress(value=0, description='Pandas Apply', max=141520, style=ProgressStyle(description_wi…"
      ]
     },
     "metadata": {},
     "output_type": "display_data"
    },
    {
     "name": "stdout",
     "output_type": "stream",
     "text": [
      "\n",
      "Purchase\n",
      "0    282564\n",
      "1       869\n",
      "dtype: int64\n",
      "done!\n"
     ]
    },
    {
     "data": {
      "application/vnd.jupyter.widget-view+json": {
       "model_id": "8b342672c376484bb3a3c4cd5cb79cc8",
       "version_major": 2,
       "version_minor": 0
      },
      "text/plain": [
       "HBox(children=(IntProgress(value=0, description='Pandas Apply', max=152960, style=ProgressStyle(description_wi…"
      ]
     },
     "metadata": {},
     "output_type": "display_data"
    },
    {
     "name": "stdout",
     "output_type": "stream",
     "text": [
      "\n",
      "Purchase\n",
      "0    284792\n",
      "1       853\n",
      "dtype: int64\n",
      "done!\n"
     ]
    },
    {
     "data": {
      "application/vnd.jupyter.widget-view+json": {
       "model_id": "021ebabc14364c638e149709501c75c3",
       "version_major": 2,
       "version_minor": 0
      },
      "text/plain": [
       "HBox(children=(IntProgress(value=0, description='Pandas Apply', max=156712, style=ProgressStyle(description_wi…"
      ]
     },
     "metadata": {},
     "output_type": "display_data"
    },
    {
     "name": "stdout",
     "output_type": "stream",
     "text": [
      "\n",
      "Purchase\n",
      "0    294758\n",
      "1      1314\n",
      "dtype: int64\n",
      "done!\n"
     ]
    },
    {
     "data": {
      "application/vnd.jupyter.widget-view+json": {
       "model_id": "38b1946f0b4048539275505d45a40ea4",
       "version_major": 2,
       "version_minor": 0
      },
      "text/plain": [
       "HBox(children=(IntProgress(value=0, description='Pandas Apply', max=154385, style=ProgressStyle(description_wi…"
      ]
     },
     "metadata": {},
     "output_type": "display_data"
    },
    {
     "name": "stdout",
     "output_type": "stream",
     "text": [
      "\n",
      "Purchase\n",
      "0    304415\n",
      "1      1345\n",
      "dtype: int64\n",
      "done!\n"
     ]
    },
    {
     "data": {
      "application/vnd.jupyter.widget-view+json": {
       "model_id": "f4776042652e47f4a2d542939fd4b227",
       "version_major": 2,
       "version_minor": 0
      },
      "text/plain": [
       "HBox(children=(IntProgress(value=0, description='Pandas Apply', max=146418, style=ProgressStyle(description_wi…"
      ]
     },
     "metadata": {},
     "output_type": "display_data"
    },
    {
     "name": "stdout",
     "output_type": "stream",
     "text": [
      "\n",
      "Purchase\n",
      "0    328467\n",
      "1      1169\n",
      "dtype: int64\n",
      "done!\n"
     ]
    },
    {
     "data": {
      "application/vnd.jupyter.widget-view+json": {
       "model_id": "4d22b754c4f64e999c757f901dd85d2a",
       "version_major": 2,
       "version_minor": 0
      },
      "text/plain": [
       "HBox(children=(IntProgress(value=0, description='Pandas Apply', max=140642, style=ProgressStyle(description_wi…"
      ]
     },
     "metadata": {},
     "output_type": "display_data"
    },
    {
     "name": "stdout",
     "output_type": "stream",
     "text": [
      "\n",
      "Purchase\n",
      "0    353409\n",
      "1      1066\n",
      "dtype: int64\n",
      "done!\n"
     ]
    },
    {
     "data": {
      "application/vnd.jupyter.widget-view+json": {
       "model_id": "f885bce8dae34d9ba200465cca75963d",
       "version_major": 2,
       "version_minor": 0
      },
      "text/plain": [
       "HBox(children=(IntProgress(value=0, description='Pandas Apply', max=149304, style=ProgressStyle(description_wi…"
      ]
     },
     "metadata": {},
     "output_type": "display_data"
    },
    {
     "name": "stdout",
     "output_type": "stream",
     "text": [
      "\n",
      "Purchase\n",
      "0    383888\n",
      "1      1058\n",
      "dtype: int64\n",
      "done!\n"
     ]
    },
    {
     "data": {
      "application/vnd.jupyter.widget-view+json": {
       "model_id": "eb8a77a6ad484352b5b0e8474f793f91",
       "version_major": 2,
       "version_minor": 0
      },
      "text/plain": [
       "HBox(children=(IntProgress(value=0, description='Pandas Apply', max=136543, style=ProgressStyle(description_wi…"
      ]
     },
     "metadata": {},
     "output_type": "display_data"
    },
    {
     "name": "stdout",
     "output_type": "stream",
     "text": [
      "\n",
      "Purchase\n",
      "0    388599\n",
      "1      1029\n",
      "dtype: int64\n",
      "done!\n"
     ]
    }
   ],
   "source": [
    "training_from = [20160801,20160901, 20161001, 20161101, 20161201, 20170101, 20170201, 20170301, 20170401, 20170501, 20170601, 20170701, 20170801] \n",
    "training_to = [20170115,20170215,  20170315,  20170415,  20170515,  20170615,  20170715,  20170815,  20170915,  20171015,  20171115,  20171215,  20180115]  \n",
    "\n",
    "for i in range(13):\n",
    "    target_variable(data, str(training_from[i]), str(training_to[i]), str(i))"
   ]
  },
  {
   "cell_type": "code",
   "execution_count": 80,
   "metadata": {},
   "outputs": [],
   "source": [
    "#date1 = '20160801'\n",
    "#from_date = datetime.datetime.strptime(date1, \"%Y%m%d\") #min(data$date)+168*(k-1)\n",
    "#to_date = from_date + datetime.timedelta(days=168)    #min(data$date) + 168*k\n",
    "#future1 = to_date + datetime.timedelta(days=46)  #min(data$date) + 168*k + 46\n",
    "#future2 = to_date + datetime.timedelta(days=108) #min(data$date) + 168*k + 46 +62\n",
    "#\n",
    "\n",
    "#tf = data[(data['date']>=from_date) & (data['date'] < to_date)]\n",
    "\n",
    "#tf_fvid_data = data[(data['date']>=future1) & (data['date'] < future2)]\n",
    "#tf_fvid = tf_fvid_data[['fullVisitorId']].drop_duplicates()\n",
    "\n",
    "\n",
    "#tf_returned = tf[tf['fullVisitorId'].isin(tf_fvid['fullVisitorId'])]\n",
    "#tf_returned_visitorID = tf_returned.fullVisitorId.unique()\n",
    "\n",
    "\n",
    "tf_tst = data[(data['fullVisitorId'].isin(tf_returned_visitorID)) & (data['date']>=future1) & (data['date'] < future2)]\n",
    "########################################################################################--- okay\n",
    "\n",
    "\n",
    "# data1 = data1[['fullVisitorId']].drop_duplicates()\n",
    "# future = data[(data['date']>=future1) & (data['date']<=future2)]\n",
    "# visitorID = future.fullVisitorId.unique()"
   ]
  },
  {
   "cell_type": "code",
   "execution_count": 6,
   "metadata": {},
   "outputs": [
    {
     "data": {
      "text/plain": [
       "Purchase_y\n",
       "0.0    377036\n",
       "1.0       150\n",
       "dtype: int64"
      ]
     },
     "execution_count": 6,
     "metadata": {},
     "output_type": "execute_result"
    }
   ],
   "source": [
    "path = 'predictive_alok/train_data_class/final_final/train0.csv'\n",
    "# path2 = 'predictive_alok/train_data_class/final_final/train' + file + '.csv'\n",
    "df0 = pd.read_csv(path,dtype={'fullVisitorId': 'str'})\n",
    "df0.groupby('Purchase_y').size()\n",
    "# df0.columns"
   ]
  },
  {
   "cell_type": "code",
   "execution_count": 119,
   "metadata": {},
   "outputs": [
    {
     "data": {
      "text/html": [
       "<div>\n",
       "<style scoped>\n",
       "    .dataframe tbody tr th:only-of-type {\n",
       "        vertical-align: middle;\n",
       "    }\n",
       "\n",
       "    .dataframe tbody tr th {\n",
       "        vertical-align: top;\n",
       "    }\n",
       "\n",
       "    .dataframe thead th {\n",
       "        text-align: right;\n",
       "    }\n",
       "</style>\n",
       "<table border=\"1\" class=\"dataframe\">\n",
       "  <thead>\n",
       "    <tr style=\"text-align: right;\">\n",
       "      <th></th>\n",
       "      <th>date</th>\n",
       "      <th>fullVisitorId</th>\n",
       "      <th>totals</th>\n",
       "      <th>totals_1</th>\n",
       "    </tr>\n",
       "  </thead>\n",
       "  <tbody>\n",
       "    <tr>\n",
       "      <td>13084</td>\n",
       "      <td>2017-03-12</td>\n",
       "      <td>6018775317735347795</td>\n",
       "      <td>{'visits': '1', 'hits': '1', 'pageviews': '1',...</td>\n",
       "      <td>[visits, hits, pageviews, bounces]</td>\n",
       "    </tr>\n",
       "    <tr>\n",
       "      <td>13090</td>\n",
       "      <td>2017-03-12</td>\n",
       "      <td>4912143557358780799</td>\n",
       "      <td>{'visits': '1', 'hits': '1', 'pageviews': '1',...</td>\n",
       "      <td>[visits, hits, pageviews, bounces]</td>\n",
       "    </tr>\n",
       "    <tr>\n",
       "      <td>13099</td>\n",
       "      <td>2017-03-12</td>\n",
       "      <td>850297961947879420</td>\n",
       "      <td>{'visits': '1', 'hits': '1', 'pageviews': '1',...</td>\n",
       "      <td>[visits, hits, pageviews, bounces]</td>\n",
       "    </tr>\n",
       "    <tr>\n",
       "      <td>13106</td>\n",
       "      <td>2017-03-12</td>\n",
       "      <td>4950398280284706032</td>\n",
       "      <td>{'visits': '1', 'hits': '1', 'pageviews': '1',...</td>\n",
       "      <td>[visits, hits, pageviews, bounces]</td>\n",
       "    </tr>\n",
       "    <tr>\n",
       "      <td>13131</td>\n",
       "      <td>2017-03-12</td>\n",
       "      <td>7648310613375845839</td>\n",
       "      <td>{'visits': '1', 'hits': '1', 'pageviews': '1',...</td>\n",
       "      <td>[visits, hits, pageviews, bounces]</td>\n",
       "    </tr>\n",
       "  </tbody>\n",
       "</table>\n",
       "</div>"
      ],
      "text/plain": [
       "            date        fullVisitorId  \\\n",
       "13084 2017-03-12  6018775317735347795   \n",
       "13090 2017-03-12  4912143557358780799   \n",
       "13099 2017-03-12   850297961947879420   \n",
       "13106 2017-03-12  4950398280284706032   \n",
       "13131 2017-03-12  7648310613375845839   \n",
       "\n",
       "                                                  totals  \\\n",
       "13084  {'visits': '1', 'hits': '1', 'pageviews': '1',...   \n",
       "13090  {'visits': '1', 'hits': '1', 'pageviews': '1',...   \n",
       "13099  {'visits': '1', 'hits': '1', 'pageviews': '1',...   \n",
       "13106  {'visits': '1', 'hits': '1', 'pageviews': '1',...   \n",
       "13131  {'visits': '1', 'hits': '1', 'pageviews': '1',...   \n",
       "\n",
       "                                 totals_1  \n",
       "13084  [visits, hits, pageviews, bounces]  \n",
       "13090  [visits, hits, pageviews, bounces]  \n",
       "13099  [visits, hits, pageviews, bounces]  \n",
       "13106  [visits, hits, pageviews, bounces]  \n",
       "13131  [visits, hits, pageviews, bounces]  "
      ]
     },
     "execution_count": 119,
     "metadata": {},
     "output_type": "execute_result"
    }
   ],
   "source": [
    "def add_brackets(x):\n",
    "    return list(x)\n",
    "\n",
    "tf_tst['totals_1'] = tf_tst['totals'].apply(add_brackets)\n",
    "tf_tst.head()"
   ]
  },
  {
   "cell_type": "code",
   "execution_count": 150,
   "metadata": {},
   "outputs": [],
   "source": [
    "future = tf_tst.reset_index()\n",
    "JSON_COLUMNS = ['totals']\n",
    "for column in JSON_COLUMNS:\n",
    "    column_as_df = json_normalize(future[column])\n",
    "    column_as_df.columns = [f\"{column}.{subcolumn}\" for subcolumn in column_as_df.columns]\n",
    "    future = future.drop(column, axis=1).merge(column_as_df, right_index=True, left_index=True, how = 'left')"
   ]
  },
  {
   "cell_type": "code",
   "execution_count": 160,
   "metadata": {},
   "outputs": [
    {
     "data": {
      "application/vnd.jupyter.widget-view+json": {
       "model_id": "e75d8c3d35e54530b5bda8717ea73ea3",
       "version_major": 2,
       "version_minor": 0
      },
      "text/plain": [
       "HBox(children=(IntProgress(value=0, description='Pandas Apply', max=1863, style=ProgressStyle(description_widt…"
      ]
     },
     "metadata": {},
     "output_type": "display_data"
    },
    {
     "name": "stdout",
     "output_type": "stream",
     "text": [
      "\n"
     ]
    }
   ],
   "source": [
    "df_target = future\n",
    "df_target['totals.transactionRevenue'] = df_target['totals.transactionRevenue'].astype(float)\n",
    "df_target = df_target.fillna(0)\n",
    "df_target = df_target.groupby('fullVisitorId').agg({'totals.transactionRevenue':'sum'})\n",
    "df_target['LogRevenue'] = np.log(df_target['totals.transactionRevenue'].astype(float) + 1)\n",
    "df_target['Purchase'] = df_target['LogRevenue'].swifter.apply(flag)\n",
    "df_target = df_target[['LogRevenue', 'Purchase']].reset_index()"
   ]
  },
  {
   "cell_type": "code",
   "execution_count": 164,
   "metadata": {},
   "outputs": [
    {
     "data": {
      "text/html": [
       "<div>\n",
       "<style scoped>\n",
       "    .dataframe tbody tr th:only-of-type {\n",
       "        vertical-align: middle;\n",
       "    }\n",
       "\n",
       "    .dataframe tbody tr th {\n",
       "        vertical-align: top;\n",
       "    }\n",
       "\n",
       "    .dataframe thead th {\n",
       "        text-align: right;\n",
       "    }\n",
       "</style>\n",
       "<table border=\"1\" class=\"dataframe\">\n",
       "  <thead>\n",
       "    <tr style=\"text-align: right;\">\n",
       "      <th></th>\n",
       "      <th>fullVisitorId</th>\n",
       "      <th>LogRevenue</th>\n",
       "      <th>Purchase</th>\n",
       "    </tr>\n",
       "  </thead>\n",
       "  <tbody>\n",
       "    <tr>\n",
       "      <td>16</td>\n",
       "      <td>0128830210468179660</td>\n",
       "      <td>16.810743</td>\n",
       "      <td>1</td>\n",
       "    </tr>\n",
       "    <tr>\n",
       "      <td>20</td>\n",
       "      <td>0164339786303841762</td>\n",
       "      <td>18.197412</td>\n",
       "      <td>1</td>\n",
       "    </tr>\n",
       "    <tr>\n",
       "      <td>24</td>\n",
       "      <td>0218721670797647024</td>\n",
       "      <td>18.979325</td>\n",
       "      <td>1</td>\n",
       "    </tr>\n",
       "    <tr>\n",
       "      <td>34</td>\n",
       "      <td>0290663072707523580</td>\n",
       "      <td>19.228718</td>\n",
       "      <td>1</td>\n",
       "    </tr>\n",
       "    <tr>\n",
       "      <td>38</td>\n",
       "      <td>0328080880890336475</td>\n",
       "      <td>17.936010</td>\n",
       "      <td>1</td>\n",
       "    </tr>\n",
       "    <tr>\n",
       "      <td>...</td>\n",
       "      <td>...</td>\n",
       "      <td>...</td>\n",
       "      <td>...</td>\n",
       "    </tr>\n",
       "    <tr>\n",
       "      <td>1755</td>\n",
       "      <td>9467619663210756890</td>\n",
       "      <td>19.517959</td>\n",
       "      <td>1</td>\n",
       "    </tr>\n",
       "    <tr>\n",
       "      <td>1802</td>\n",
       "      <td>9697396763466620407</td>\n",
       "      <td>18.797884</td>\n",
       "      <td>1</td>\n",
       "    </tr>\n",
       "    <tr>\n",
       "      <td>1829</td>\n",
       "      <td>9826816980924031810</td>\n",
       "      <td>17.375988</td>\n",
       "      <td>1</td>\n",
       "    </tr>\n",
       "    <tr>\n",
       "      <td>1842</td>\n",
       "      <td>9909403981445501787</td>\n",
       "      <td>18.055397</td>\n",
       "      <td>1</td>\n",
       "    </tr>\n",
       "    <tr>\n",
       "      <td>1855</td>\n",
       "      <td>9974232250427988367</td>\n",
       "      <td>20.808232</td>\n",
       "      <td>1</td>\n",
       "    </tr>\n",
       "  </tbody>\n",
       "</table>\n",
       "<p>149 rows × 3 columns</p>\n",
       "</div>"
      ],
      "text/plain": [
       "            fullVisitorId  LogRevenue  Purchase\n",
       "16    0128830210468179660   16.810743         1\n",
       "20    0164339786303841762   18.197412         1\n",
       "24    0218721670797647024   18.979325         1\n",
       "34    0290663072707523580   19.228718         1\n",
       "38    0328080880890336475   17.936010         1\n",
       "...                   ...         ...       ...\n",
       "1755  9467619663210756890   19.517959         1\n",
       "1802  9697396763466620407   18.797884         1\n",
       "1829  9826816980924031810   17.375988         1\n",
       "1842  9909403981445501787   18.055397         1\n",
       "1855  9974232250427988367   20.808232         1\n",
       "\n",
       "[149 rows x 3 columns]"
      ]
     },
     "execution_count": 164,
     "metadata": {},
     "output_type": "execute_result"
    }
   ],
   "source": [
    "df_target[df_target['LogRevenue'] != 0]"
   ]
  },
  {
   "cell_type": "code",
   "execution_count": 161,
   "metadata": {},
   "outputs": [
    {
     "data": {
      "text/html": [
       "<div>\n",
       "<style scoped>\n",
       "    .dataframe tbody tr th:only-of-type {\n",
       "        vertical-align: middle;\n",
       "    }\n",
       "\n",
       "    .dataframe tbody tr th {\n",
       "        vertical-align: top;\n",
       "    }\n",
       "\n",
       "    .dataframe thead th {\n",
       "        text-align: right;\n",
       "    }\n",
       "</style>\n",
       "<table border=\"1\" class=\"dataframe\">\n",
       "  <thead>\n",
       "    <tr style=\"text-align: right;\">\n",
       "      <th></th>\n",
       "      <th>index</th>\n",
       "      <th>date</th>\n",
       "      <th>fullVisitorId</th>\n",
       "      <th>totals_1</th>\n",
       "      <th>totals.visits</th>\n",
       "      <th>totals.hits</th>\n",
       "      <th>totals.pageviews</th>\n",
       "      <th>totals.bounces</th>\n",
       "      <th>totals.timeOnSite</th>\n",
       "      <th>totals.newVisits</th>\n",
       "      <th>totals.transactions</th>\n",
       "      <th>totals.transactionRevenue</th>\n",
       "      <th>totals.totalTransactionRevenue</th>\n",
       "    </tr>\n",
       "  </thead>\n",
       "  <tbody>\n",
       "    <tr>\n",
       "      <td>1948</td>\n",
       "      <td>671720</td>\n",
       "      <td>2017-04-03</td>\n",
       "      <td>0128830210468179660</td>\n",
       "      <td>[visits, hits, pageviews, timeOnSite, transact...</td>\n",
       "      <td>1</td>\n",
       "      <td>21</td>\n",
       "      <td>18</td>\n",
       "      <td>NaN</td>\n",
       "      <td>1673</td>\n",
       "      <td>NaN</td>\n",
       "      <td>1</td>\n",
       "      <td>19990000.0</td>\n",
       "      <td>28990000</td>\n",
       "    </tr>\n",
       "  </tbody>\n",
       "</table>\n",
       "</div>"
      ],
      "text/plain": [
       "       index       date        fullVisitorId  \\\n",
       "1948  671720 2017-04-03  0128830210468179660   \n",
       "\n",
       "                                               totals_1 totals.visits  \\\n",
       "1948  [visits, hits, pageviews, timeOnSite, transact...             1   \n",
       "\n",
       "     totals.hits totals.pageviews totals.bounces totals.timeOnSite  \\\n",
       "1948          21               18            NaN              1673   \n",
       "\n",
       "     totals.newVisits totals.transactions  totals.transactionRevenue  \\\n",
       "1948              NaN                   1                 19990000.0   \n",
       "\n",
       "     totals.totalTransactionRevenue  \n",
       "1948                       28990000  "
      ]
     },
     "execution_count": 161,
     "metadata": {},
     "output_type": "execute_result"
    }
   ],
   "source": [
    "future[future['fullVisitorId'] == '0128830210468179660']"
   ]
  },
  {
   "cell_type": "code",
   "execution_count": 135,
   "metadata": {},
   "outputs": [],
   "source": [
    "#df_target[df_target['LogRevenue'] != 0.0]\n",
    "\n",
    "# json_normalize(tf_tst[tf_tst['fullVisitorId'] == '0128830210468179660'].totals)\n",
    "\n",
    "future = tf_tst[tf_tst['fullVisitorId'] == '0128830210468179660']\n",
    "JSON_COLUMNS = ['totals']\n",
    "for column in JSON_COLUMNS:\n",
    "#     column_as_df = json_normalize(data[column])\n",
    "#     column_as_df.columns = [f\"{column}.{subcolumn}\" for subcolumn in column_as_df.columns]\n",
    "#     data = data.drop(column, axis=1).merge(column_as_df, right_index=True, left_index=True, how = 'left')\n",
    "    \n",
    "    column_as_df = json_normalize(future[column])\n",
    "#     column_as_df.columns = [f\"{column}.{subcolumn}\" for subcolumn in column_as_df.columns]\n",
    "    future = future.drop(column, axis=1).merge(column_as_df, right_index=True, left_index=True, how = 'left')"
   ]
  },
  {
   "cell_type": "code",
   "execution_count": 137,
   "metadata": {},
   "outputs": [
    {
     "data": {
      "text/html": [
       "<div>\n",
       "<style scoped>\n",
       "    .dataframe tbody tr th:only-of-type {\n",
       "        vertical-align: middle;\n",
       "    }\n",
       "\n",
       "    .dataframe tbody tr th {\n",
       "        vertical-align: top;\n",
       "    }\n",
       "\n",
       "    .dataframe thead th {\n",
       "        text-align: right;\n",
       "    }\n",
       "</style>\n",
       "<table border=\"1\" class=\"dataframe\">\n",
       "  <thead>\n",
       "    <tr style=\"text-align: right;\">\n",
       "      <th></th>\n",
       "      <th>visits</th>\n",
       "      <th>hits</th>\n",
       "      <th>pageviews</th>\n",
       "      <th>timeOnSite</th>\n",
       "      <th>transactions</th>\n",
       "      <th>transactionRevenue</th>\n",
       "      <th>totalTransactionRevenue</th>\n",
       "    </tr>\n",
       "  </thead>\n",
       "  <tbody>\n",
       "    <tr>\n",
       "      <td>0</td>\n",
       "      <td>1</td>\n",
       "      <td>21</td>\n",
       "      <td>18</td>\n",
       "      <td>1673</td>\n",
       "      <td>1</td>\n",
       "      <td>19990000</td>\n",
       "      <td>28990000</td>\n",
       "    </tr>\n",
       "  </tbody>\n",
       "</table>\n",
       "</div>"
      ],
      "text/plain": [
       "  visits hits pageviews timeOnSite transactions transactionRevenue  \\\n",
       "0      1   21        18       1673            1           19990000   \n",
       "\n",
       "  totalTransactionRevenue  \n",
       "0                28990000  "
      ]
     },
     "execution_count": 137,
     "metadata": {},
     "output_type": "execute_result"
    }
   ],
   "source": [
    "column_as_df"
   ]
  },
  {
   "cell_type": "code",
   "execution_count": 136,
   "metadata": {},
   "outputs": [
    {
     "data": {
      "text/html": [
       "<div>\n",
       "<style scoped>\n",
       "    .dataframe tbody tr th:only-of-type {\n",
       "        vertical-align: middle;\n",
       "    }\n",
       "\n",
       "    .dataframe tbody tr th {\n",
       "        vertical-align: top;\n",
       "    }\n",
       "\n",
       "    .dataframe thead th {\n",
       "        text-align: right;\n",
       "    }\n",
       "</style>\n",
       "<table border=\"1\" class=\"dataframe\">\n",
       "  <thead>\n",
       "    <tr style=\"text-align: right;\">\n",
       "      <th></th>\n",
       "      <th>date</th>\n",
       "      <th>fullVisitorId</th>\n",
       "      <th>totals_1</th>\n",
       "      <th>visits</th>\n",
       "      <th>hits</th>\n",
       "      <th>pageviews</th>\n",
       "      <th>timeOnSite</th>\n",
       "      <th>transactions</th>\n",
       "      <th>transactionRevenue</th>\n",
       "      <th>totalTransactionRevenue</th>\n",
       "    </tr>\n",
       "  </thead>\n",
       "  <tbody>\n",
       "    <tr>\n",
       "      <td>671720</td>\n",
       "      <td>2017-04-03</td>\n",
       "      <td>0128830210468179660</td>\n",
       "      <td>[visits, hits, pageviews, timeOnSite, transact...</td>\n",
       "      <td>NaN</td>\n",
       "      <td>NaN</td>\n",
       "      <td>NaN</td>\n",
       "      <td>NaN</td>\n",
       "      <td>NaN</td>\n",
       "      <td>NaN</td>\n",
       "      <td>NaN</td>\n",
       "    </tr>\n",
       "  </tbody>\n",
       "</table>\n",
       "</div>"
      ],
      "text/plain": [
       "             date        fullVisitorId  \\\n",
       "671720 2017-04-03  0128830210468179660   \n",
       "\n",
       "                                                 totals_1 visits hits  \\\n",
       "671720  [visits, hits, pageviews, timeOnSite, transact...    NaN  NaN   \n",
       "\n",
       "       pageviews timeOnSite transactions transactionRevenue  \\\n",
       "671720       NaN        NaN          NaN                NaN   \n",
       "\n",
       "       totalTransactionRevenue  \n",
       "671720                     NaN  "
      ]
     },
     "execution_count": 136,
     "metadata": {},
     "output_type": "execute_result"
    }
   ],
   "source": [
    "future"
   ]
  },
  {
   "cell_type": "code",
   "execution_count": null,
   "metadata": {},
   "outputs": [],
   "source": []
  },
  {
   "cell_type": "code",
   "execution_count": null,
   "metadata": {},
   "outputs": [],
   "source": []
  },
  {
   "cell_type": "code",
   "execution_count": 171,
   "metadata": {},
   "outputs": [
    {
     "data": {
      "application/vnd.jupyter.widget-view+json": {
       "model_id": "3a51dc1f9178431a92336c859bb5e600",
       "version_major": 2,
       "version_minor": 0
      },
      "text/plain": [
       "HBox(children=(IntProgress(value=0, description='Pandas Apply', max=115703, style=ProgressStyle(description_wi…"
      ]
     },
     "metadata": {},
     "output_type": "display_data"
    },
    {
     "name": "stdout",
     "output_type": "stream",
     "text": [
      "\n"
     ]
    }
   ],
   "source": [
    "target = target_variable(data, '20160801' , '20170315', 'predictive_alok/train_data_class/train0.csv')"
   ]
  },
  {
   "cell_type": "code",
   "execution_count": 172,
   "metadata": {},
   "outputs": [
    {
     "data": {
      "text/plain": [
       "Purchase\n",
       "0    375492\n",
       "1      1694\n",
       "dtype: int64"
      ]
     },
     "execution_count": 172,
     "metadata": {},
     "output_type": "execute_result"
    }
   ],
   "source": [
    "target.groupby('Purchase').size()"
   ]
  },
  {
   "cell_type": "code",
   "execution_count": 159,
   "metadata": {},
   "outputs": [
    {
     "data": {
      "text/html": [
       "<div>\n",
       "<style scoped>\n",
       "    .dataframe tbody tr th:only-of-type {\n",
       "        vertical-align: middle;\n",
       "    }\n",
       "\n",
       "    .dataframe tbody tr th {\n",
       "        vertical-align: top;\n",
       "    }\n",
       "\n",
       "    .dataframe thead th {\n",
       "        text-align: right;\n",
       "    }\n",
       "</style>\n",
       "<table border=\"1\" class=\"dataframe\">\n",
       "  <thead>\n",
       "    <tr style=\"text-align: right;\">\n",
       "      <th></th>\n",
       "      <th>fullVisitorId</th>\n",
       "      <th>LogRevenue</th>\n",
       "      <th>Purchase</th>\n",
       "      <th>visits</th>\n",
       "      <th>(Other)</th>\n",
       "      <th>Affiliates</th>\n",
       "      <th>Direct</th>\n",
       "      <th>Display</th>\n",
       "      <th>Organic Search</th>\n",
       "      <th>Paid Search</th>\n",
       "      <th>...</th>\n",
       "      <th>trafSrc_isTrueDir_isNULL</th>\n",
       "      <th>trafSrc_isTrueDir_True</th>\n",
       "      <th>trafSrc_kw_others</th>\n",
       "      <th>trafSrc_kw_isNULL</th>\n",
       "      <th>trafSrc_medium_org</th>\n",
       "      <th>trafSrc_medium_ref</th>\n",
       "      <th>trafSrc_medium_isNULL</th>\n",
       "      <th>trafSrc_medium_cpc</th>\n",
       "      <th>trafSrc_medium_aff</th>\n",
       "      <th>trafSrc_medium_cpm</th>\n",
       "    </tr>\n",
       "  </thead>\n",
       "  <tbody>\n",
       "    <tr>\n",
       "      <td>270447</td>\n",
       "      <td>0128830210468179660</td>\n",
       "      <td>16.810743</td>\n",
       "      <td>1.0</td>\n",
       "      <td>1</td>\n",
       "      <td>0</td>\n",
       "      <td>0</td>\n",
       "      <td>0</td>\n",
       "      <td>1</td>\n",
       "      <td>0</td>\n",
       "      <td>0</td>\n",
       "      <td>...</td>\n",
       "      <td>1</td>\n",
       "      <td>0</td>\n",
       "      <td>0</td>\n",
       "      <td>1</td>\n",
       "      <td>0</td>\n",
       "      <td>0</td>\n",
       "      <td>0</td>\n",
       "      <td>0</td>\n",
       "      <td>0</td>\n",
       "      <td>0</td>\n",
       "    </tr>\n",
       "  </tbody>\n",
       "</table>\n",
       "<p>1 rows × 48 columns</p>\n",
       "</div>"
      ],
      "text/plain": [
       "              fullVisitorId  LogRevenue  Purchase  visits  (Other)  \\\n",
       "270447  0128830210468179660   16.810743       1.0       1        0   \n",
       "\n",
       "        Affiliates  Direct  Display  Organic Search  Paid Search  ...  \\\n",
       "270447           0       0        1               0            0  ...   \n",
       "\n",
       "        trafSrc_isTrueDir_isNULL  trafSrc_isTrueDir_True  trafSrc_kw_others  \\\n",
       "270447                         1                       0                  0   \n",
       "\n",
       "        trafSrc_kw_isNULL  trafSrc_medium_org  trafSrc_medium_ref  \\\n",
       "270447                  1                   0                   0   \n",
       "\n",
       "        trafSrc_medium_isNULL  trafSrc_medium_cpc  trafSrc_medium_aff  \\\n",
       "270447                      0                   0                   0   \n",
       "\n",
       "        trafSrc_medium_cpm  \n",
       "270447                   0  \n",
       "\n",
       "[1 rows x 48 columns]"
      ]
     },
     "execution_count": 159,
     "metadata": {},
     "output_type": "execute_result"
    }
   ],
   "source": [
    "target[target['fullVisitorId'] == '0128830210468179660']"
   ]
  },
  {
   "cell_type": "code",
   "execution_count": 224,
   "metadata": {},
   "outputs": [],
   "source": [
    "training_from = [20160801,20160901, 20161001, 20161101, 20161201, 20170101, 20170201, 20170301, 20170401, 20170501, 20170601, 20170701, 20170801] \n",
    "training_to = [20170115,20170215,  20170315,  20170415,  20170515,  20170615,  20170715,  20170815,  20170915,  20171015,  20171115,  20171215,  20180115]  \n",
    "\n",
    "target_from = [20170301,20170401,20170501,20170601,20170701,20170801,20170901,20171001,20171101,20171201,20180101,20180201,20180301]\n",
    "target_to = [20170501,20170601,20170701,20170801,20170901,20171001,20171101,20171201,20180101,20180201,20180301,20180401,20180501]"
   ]
  },
  {
   "cell_type": "code",
   "execution_count": 28,
   "metadata": {},
   "outputs": [
    {
     "name": "stdout",
     "output_type": "stream",
     "text": [
      "min date 20180501\n",
      "max date 20181015\n"
     ]
    }
   ],
   "source": [
    "print(\"min date\",min(data['date']))\n",
    "print(\"max date\",max(data['date']))"
   ]
  },
  {
   "cell_type": "code",
   "execution_count": 5,
   "metadata": {},
   "outputs": [
    {
     "ename": "NameError",
     "evalue": "name 'test' is not defined",
     "output_type": "error",
     "traceback": [
      "\u001b[0;31m---------------------------------------------------------------------------\u001b[0m",
      "\u001b[0;31mNameError\u001b[0m                                 Traceback (most recent call last)",
      "\u001b[0;32m<ipython-input-5-75a4ed0e72f5>\u001b[0m in \u001b[0;36m<module>\u001b[0;34m\u001b[0m\n\u001b[0;32m----> 1\u001b[0;31m \u001b[0mprint\u001b[0m\u001b[0;34m(\u001b[0m\u001b[0;34m\"min date\"\u001b[0m\u001b[0;34m,\u001b[0m\u001b[0mmin\u001b[0m\u001b[0;34m(\u001b[0m\u001b[0mtest\u001b[0m\u001b[0;34m[\u001b[0m\u001b[0;34m'date'\u001b[0m\u001b[0;34m]\u001b[0m\u001b[0;34m)\u001b[0m\u001b[0;34m)\u001b[0m\u001b[0;34m\u001b[0m\u001b[0;34m\u001b[0m\u001b[0m\n\u001b[0m\u001b[1;32m      2\u001b[0m \u001b[0mprint\u001b[0m\u001b[0;34m(\u001b[0m\u001b[0;34m\"max date\"\u001b[0m\u001b[0;34m,\u001b[0m\u001b[0mmax\u001b[0m\u001b[0;34m(\u001b[0m\u001b[0mtest\u001b[0m\u001b[0;34m[\u001b[0m\u001b[0;34m'date'\u001b[0m\u001b[0;34m]\u001b[0m\u001b[0;34m)\u001b[0m\u001b[0;34m)\u001b[0m\u001b[0;34m\u001b[0m\u001b[0;34m\u001b[0m\u001b[0m\n",
      "\u001b[0;31mNameError\u001b[0m: name 'test' is not defined"
     ]
    }
   ],
   "source": [
    "print(\"min date\",min(test['date']))\n",
    "print(\"max date\",max(test['date']))"
   ]
  },
  {
   "cell_type": "code",
   "execution_count": 17,
   "metadata": {},
   "outputs": [
    {
     "data": {
      "text/plain": [
       "channelGrouping     object\n",
       "customDimensions    object\n",
       "date                 int64\n",
       "device              object\n",
       "fullVisitorId       object\n",
       "geoNetwork          object\n",
       "totals              object\n",
       "trafficSource       object\n",
       "visitId              int64\n",
       "visitNumber          int64\n",
       "dtype: object"
      ]
     },
     "execution_count": 17,
     "metadata": {},
     "output_type": "execute_result"
    }
   ],
   "source": [
    "data.dtypes"
   ]
  },
  {
   "cell_type": "code",
   "execution_count": 9,
   "metadata": {},
   "outputs": [],
   "source": [
    "data['fullVisitorID'] = data['fullVisitorId'].astype(str)"
   ]
  },
  {
   "cell_type": "code",
   "execution_count": 18,
   "metadata": {},
   "outputs": [
    {
     "data": {
      "text/html": [
       "<div>\n",
       "<style scoped>\n",
       "    .dataframe tbody tr th:only-of-type {\n",
       "        vertical-align: middle;\n",
       "    }\n",
       "\n",
       "    .dataframe tbody tr th {\n",
       "        vertical-align: top;\n",
       "    }\n",
       "\n",
       "    .dataframe thead th {\n",
       "        text-align: right;\n",
       "    }\n",
       "</style>\n",
       "<table border=\"1\" class=\"dataframe\">\n",
       "  <thead>\n",
       "    <tr style=\"text-align: right;\">\n",
       "      <th></th>\n",
       "      <th>channelGrouping</th>\n",
       "      <th>customDimensions</th>\n",
       "      <th>date</th>\n",
       "      <th>device</th>\n",
       "      <th>fullVisitorId</th>\n",
       "      <th>geoNetwork</th>\n",
       "      <th>totals</th>\n",
       "      <th>trafficSource</th>\n",
       "      <th>visitId</th>\n",
       "      <th>visitNumber</th>\n",
       "    </tr>\n",
       "  </thead>\n",
       "  <tbody>\n",
       "    <tr>\n",
       "      <td>0</td>\n",
       "      <td>Organic Search</td>\n",
       "      <td>[{'index': '4', 'value': 'APAC'}]</td>\n",
       "      <td>20180511</td>\n",
       "      <td>{'browser': 'Chrome', 'browserVersion': 'not a...</td>\n",
       "      <td>7460955084541987166</td>\n",
       "      <td>{'continent': 'Asia', 'subContinent': 'Souther...</td>\n",
       "      <td>{'visits': '1', 'hits': '4', 'pageviews': '3',...</td>\n",
       "      <td>{'referralPath': '(not set)', 'campaign': '(no...</td>\n",
       "      <td>1526099341</td>\n",
       "      <td>2</td>\n",
       "    </tr>\n",
       "    <tr>\n",
       "      <td>1</td>\n",
       "      <td>Direct</td>\n",
       "      <td>[{'index': '4', 'value': 'North America'}]</td>\n",
       "      <td>20180511</td>\n",
       "      <td>{'browser': 'Chrome', 'browserVersion': 'not a...</td>\n",
       "      <td>460252456180441002</td>\n",
       "      <td>{'continent': 'Americas', 'subContinent': 'Nor...</td>\n",
       "      <td>{'visits': '1', 'hits': '4', 'pageviews': '3',...</td>\n",
       "      <td>{'referralPath': '(not set)', 'campaign': '(no...</td>\n",
       "      <td>1526064483</td>\n",
       "      <td>166</td>\n",
       "    </tr>\n",
       "    <tr>\n",
       "      <td>2</td>\n",
       "      <td>Organic Search</td>\n",
       "      <td>[{'index': '4', 'value': 'North America'}]</td>\n",
       "      <td>20180511</td>\n",
       "      <td>{'browser': 'Chrome', 'browserVersion': 'not a...</td>\n",
       "      <td>3461808543879602873</td>\n",
       "      <td>{'continent': 'Americas', 'subContinent': 'Nor...</td>\n",
       "      <td>{'visits': '1', 'hits': '4', 'pageviews': '3',...</td>\n",
       "      <td>{'referralPath': '(not set)', 'campaign': '(no...</td>\n",
       "      <td>1526067157</td>\n",
       "      <td>2</td>\n",
       "    </tr>\n",
       "    <tr>\n",
       "      <td>3</td>\n",
       "      <td>Direct</td>\n",
       "      <td>[{'index': '4', 'value': 'North America'}]</td>\n",
       "      <td>20180511</td>\n",
       "      <td>{'browser': 'Chrome', 'browserVersion': 'not a...</td>\n",
       "      <td>975129477712150630</td>\n",
       "      <td>{'continent': 'Americas', 'subContinent': 'Nor...</td>\n",
       "      <td>{'visits': '1', 'hits': '5', 'pageviews': '4',...</td>\n",
       "      <td>{'referralPath': '(not set)', 'campaign': '(no...</td>\n",
       "      <td>1526107551</td>\n",
       "      <td>4</td>\n",
       "    </tr>\n",
       "    <tr>\n",
       "      <td>4</td>\n",
       "      <td>Organic Search</td>\n",
       "      <td>[{'index': '4', 'value': 'North America'}]</td>\n",
       "      <td>20180511</td>\n",
       "      <td>{'browser': 'Internet Explorer', 'browserVersi...</td>\n",
       "      <td>8381672768065729990</td>\n",
       "      <td>{'continent': 'Americas', 'subContinent': 'Nor...</td>\n",
       "      <td>{'visits': '1', 'hits': '5', 'pageviews': '4',...</td>\n",
       "      <td>{'referralPath': '(not set)', 'campaign': '(no...</td>\n",
       "      <td>1526060254</td>\n",
       "      <td>1</td>\n",
       "    </tr>\n",
       "  </tbody>\n",
       "</table>\n",
       "</div>"
      ],
      "text/plain": [
       "  channelGrouping                            customDimensions      date  \\\n",
       "0  Organic Search           [{'index': '4', 'value': 'APAC'}]  20180511   \n",
       "1          Direct  [{'index': '4', 'value': 'North America'}]  20180511   \n",
       "2  Organic Search  [{'index': '4', 'value': 'North America'}]  20180511   \n",
       "3          Direct  [{'index': '4', 'value': 'North America'}]  20180511   \n",
       "4  Organic Search  [{'index': '4', 'value': 'North America'}]  20180511   \n",
       "\n",
       "                                              device        fullVisitorId  \\\n",
       "0  {'browser': 'Chrome', 'browserVersion': 'not a...  7460955084541987166   \n",
       "1  {'browser': 'Chrome', 'browserVersion': 'not a...   460252456180441002   \n",
       "2  {'browser': 'Chrome', 'browserVersion': 'not a...  3461808543879602873   \n",
       "3  {'browser': 'Chrome', 'browserVersion': 'not a...   975129477712150630   \n",
       "4  {'browser': 'Internet Explorer', 'browserVersi...  8381672768065729990   \n",
       "\n",
       "                                          geoNetwork  \\\n",
       "0  {'continent': 'Asia', 'subContinent': 'Souther...   \n",
       "1  {'continent': 'Americas', 'subContinent': 'Nor...   \n",
       "2  {'continent': 'Americas', 'subContinent': 'Nor...   \n",
       "3  {'continent': 'Americas', 'subContinent': 'Nor...   \n",
       "4  {'continent': 'Americas', 'subContinent': 'Nor...   \n",
       "\n",
       "                                              totals  \\\n",
       "0  {'visits': '1', 'hits': '4', 'pageviews': '3',...   \n",
       "1  {'visits': '1', 'hits': '4', 'pageviews': '3',...   \n",
       "2  {'visits': '1', 'hits': '4', 'pageviews': '3',...   \n",
       "3  {'visits': '1', 'hits': '5', 'pageviews': '4',...   \n",
       "4  {'visits': '1', 'hits': '5', 'pageviews': '4',...   \n",
       "\n",
       "                                       trafficSource     visitId  visitNumber  \n",
       "0  {'referralPath': '(not set)', 'campaign': '(no...  1526099341            2  \n",
       "1  {'referralPath': '(not set)', 'campaign': '(no...  1526064483          166  \n",
       "2  {'referralPath': '(not set)', 'campaign': '(no...  1526067157            2  \n",
       "3  {'referralPath': '(not set)', 'campaign': '(no...  1526107551            4  \n",
       "4  {'referralPath': '(not set)', 'campaign': '(no...  1526060254            1  "
      ]
     },
     "execution_count": 18,
     "metadata": {},
     "output_type": "execute_result"
    }
   ],
   "source": [
    "data.head()"
   ]
  },
  {
   "cell_type": "code",
   "execution_count": 23,
   "metadata": {},
   "outputs": [],
   "source": [
    "# Splitting The Dataaframes\n",
    "def mungemunge(from_date, to_date):\n",
    "    train = data[(data['date']>=from_date) & (data['date']<=to_date)]\n",
    "    print(\"Date Range\",min(train['date']), max(train['date']))\n",
    "    print(\"# of Visitors\",len(train.fullVisitorId.unique()))\n",
    "    print(\"shape of training\",train.shape)\n",
    "\n",
    "#     print(\"Load Dataframe to expand JSON\")\n",
    "    training = load_df(train)\n",
    "    print(\"Final Shape\",training.shape)\n",
    "    print(\"# of Visitors\",len(training.fullVisitorId.unique()))\n",
    "#     print('done!!!')\n",
    "    return training"
   ]
  },
  {
   "cell_type": "code",
   "execution_count": 24,
   "metadata": {},
   "outputs": [],
   "source": [
    "# Getting Jsons\n",
    "def load_df(df1):\n",
    "#     a = time.time()\n",
    "    print('input shape:', df1.shape)\n",
    "    JSON_COLUMNS = ['device', 'geoNetwork', 'totals', 'trafficSource']\n",
    "    for column in JSON_COLUMNS:\n",
    "#         print(column)\n",
    "        column_as_df = json_normalize(df1[column])\n",
    "        column_as_df.columns = [f\"{column}.{subcolumn}\" for subcolumn in column_as_df.columns]\n",
    "        df1 = df1.drop(column, axis=1).merge(column_as_df, right_index=True, left_index=True, how = 'left')\n",
    "#     print(time.time() -a)\n",
    "    print('Splitting Json Done!! final shape:', df1.shape)\n",
    "    return df1"
   ]
  },
  {
   "cell_type": "code",
   "execution_count": 21,
   "metadata": {},
   "outputs": [],
   "source": [
    "# Changing Datatypes\n",
    "def convert_float(x):\n",
    "    try:\n",
    "        return float(x)\n",
    "    except ValueError:\n",
    "        return np.nan\n",
    "\n",
    "def flag(x):\n",
    "    if float(x) == 0:\n",
    "        return 0\n",
    "    else: \n",
    "        return 1"
   ]
  },
  {
   "cell_type": "code",
   "execution_count": 26,
   "metadata": {},
   "outputs": [],
   "source": [
    "# Creating dataframes\n",
    "\n",
    "def data_munge(df):\n",
    "#     a = time.time()\n",
    "    \n",
    "    df_target = df[['fullVisitorId', 'totals.transactionRevenue']]\n",
    "    df_target['totals.transactionRevenue'] = df_target['totals.transactionRevenue'].astype(float)\n",
    "    df_target = df_target.fillna(0)\n",
    "    df_target = df_target.groupby('fullVisitorId').agg({'totals.transactionRevenue':'sum'})\n",
    "    df_target['LogRevenue'] = np.log(df_target['totals.transactionRevenue'].astype(float) + 1)\n",
    "    df_target['Purchase'] = df_target['LogRevenue'].swifter.apply(flag)\n",
    "    df_target = df_target[['LogRevenue', 'Purchase']].reset_index()\n",
    "    \n",
    "    df_channel = training[['fullVisitorId', 'channelGrouping']]\n",
    "    df_channel = pd.concat((df_channel,pd.get_dummies(df_channel.channelGrouping)),1)\n",
    "    df_channel = df_channel.drop('channelGrouping', axis = 1)\n",
    "    df_channel = df_channel.groupby('fullVisitorId').sum().reset_index()\n",
    "    \n",
    "    df_visits = df[['fullVisitorId','visitNumber']]\n",
    "    df_visits = df_visits.groupby('fullVisitorId').size().reset_index()\n",
    "    df_visits.columns = ['fullVisitorId', 'visits']\n",
    "    \n",
    "    df['totals.bounces'] = df['totals.bounces'].swifter.apply(convert_float)\n",
    "    df['totals.hits'] = df['totals.hits'].swifter.apply(convert_float)\n",
    "    df['totals.pageviews'] = df['totals.pageviews'].swifter.apply(convert_float)\n",
    "#     df['totals.sessionQualityDim'] = df['totals.sessionQualityDim'].swifter.apply(convert_float)\n",
    "    df['totals.newVisits'] = df['totals.newVisits'].swifter.apply(convert_float)\n",
    "    df['totals.timeOnSite'] = df['totals.timeOnSite'].swifter.apply(convert_float)\n",
    "    df['totals.transactions'] = df['totals.transactions'].swifter.apply(convert_float)\n",
    "    \n",
    "    df_boyang = df.fillna(-1).groupby(\"fullVisitorId\").agg({\"totals.bounces\":\"sum\",\"totals.hits\":\"sum\",\"totals.newVisits\":\"sum\",\\\n",
    "                                                            \"totals.pageviews\":\"sum\", \\\n",
    "#                                                             \"totals.sessionQualityDim\":\"sum\",\\\n",
    "                                                            \"totals.timeOnSite\":\"sum\",\"totals.transactions\":\"sum\"})  \n",
    "    df_boyang.reset_index(level=0, inplace=True)\n",
    "\n",
    "    \n",
    "    \n",
    "    df['trafSrc_adCont_isNULL'] = np.where(df['trafficSource.adContent'].isnull(), 1, 0)\n",
    "    df['trafSrc_adCont_Others'] = np.where(df['trafficSource.adContent'].isin([\"First Full Auto Template Test Ad\",\"Ad from 11/7/16\",\\\n",
    "                                                                               \"{KeyWord:Google Brand Items}\",\"Full auto ad TEXT ONLY\",\\\n",
    "                                                                               \"LeEco_1a\",\"JD_5a_v1\",\"{KeyWord:Google Men's T-Shirts}\",\\\n",
    "                                                                               \"Full auto ad TEXT/NATIVE\",\"Official Google Merchandise - Fast Shipping\",\\\n",
    "                                                                               \"free shipping\",\"Full auto ad with Primary Color\",\"Free Shipping!\",\\\n",
    "                                                                               \"GA Help Center\",\"{KeyWord:Google Branded Outerwear}\",\"Full auto ad NATIVE ONLY\",\\\n",
    "                                                                               \"Swag w/ Google Logos\"]), 1, 0)\n",
    "    df['trafSrc_adCont_20disc'] = np.where(df['trafficSource.adContent'] == '20% discount', 1, 0)\n",
    "    df['trafSrc_adCont_GoogleMerc'] = np.where(df['trafficSource.adContent'] == 'Google Merchandise', 1, 0)\n",
    "    df['trafSrc_adCont_DispAd15'] = np.where(df['trafficSource.adContent'] == 'Display Ad created 3/11/15', 1, 0)\n",
    "    df['trafSrc_adCont_Ad121316'] = np.where(df['trafficSource.adContent'] == 'Ad from 12/13/16', 1, 0)\n",
    "    df['trafSrc_adCont_DispAd14'] = np.where(df['trafficSource.adContent'] == 'Display Ad created 3/11/14', 1, 0)\n",
    "    df['trafSrc_adCont_FullAutoAd'] = np.where(df['trafficSource.adContent'] == 'Full auto ad IMAGE ONLY', 1, 0)    \n",
    "    df['trafSrc_NetType_GSearch'] = np.where(df['trafficSource.adwordsClickInfo.adNetworkType'] == 'Google Search', 1, 0)\n",
    "    df['trafSrc_NetType_SrchPartners'] = np.where(df['trafficSource.adwordsClickInfo.adNetworkType'] == 'Search Partners', 1, 0)\n",
    "    df['trafSrc_gcl_isNULL'] = np.where(df['trafficSource.adwordsClickInfo.gclId'].isnull(), 1, 0)    \n",
    "    df['trafSrc_isVidAd'] = np.where(df['trafficSource.adwordsClickInfo.isVideoAd'].isnull(), 1, 0)    \n",
    "    df['trafSrc_page_isNULL'] = np.where(df['trafficSource.adwordsClickInfo.page'].isnull(), 1, 0)\n",
    "    df['trafSrc_page_1'] = np.where(df['trafficSource.adwordsClickInfo.page'] == '1', 1, 0)\n",
    "    df['trafSrc_page_others'] = np.where(df['trafficSource.adwordsClickInfo.page'].isin(['2','3','4','5','7','9']), 1, 0)\n",
    "    \n",
    "    df_samira = df.groupby('fullVisitorId').agg({'trafSrc_adCont_isNULL': 'sum', 'trafSrc_adCont_Others': 'sum', \\\n",
    "                                                 'trafSrc_adCont_20disc': 'sum', 'trafSrc_adCont_GoogleMerc': 'sum', \\\n",
    "                                                 'trafSrc_adCont_DispAd15': 'sum', 'trafSrc_adCont_Ad121316': 'sum', \\\n",
    "                                                 'trafSrc_adCont_DispAd14': 'sum', 'trafSrc_adCont_FullAutoAd': 'sum', \\\n",
    "                                                 'trafSrc_NetType_GSearch': 'sum', 'trafSrc_NetType_SrchPartners': 'sum', \\\n",
    "                                                 'trafSrc_gcl_isNULL': 'sum', 'trafSrc_isVidAd': 'sum', 'trafSrc_page_isNULL': 'sum', \\\n",
    "                                                 'trafSrc_page_1': 'sum', 'trafSrc_page_others': 'sum'}).reset_index()\n",
    "    \n",
    "    df_samira.reset_index(level=0, inplace=True)\n",
    "    \n",
    "    \n",
    "    df['trafSrc_page2_isNULL'] = np.where(df['trafficSource.adwordsClickInfo.slot'].isnull(), 1, 0)\n",
    "    df['trafSrc_page2'] = np.where(df['trafficSource.adwordsClickInfo.slot'] == 'Top', 1, 0)\n",
    "    df['trafSrc_page2_others'] = np.where(df['trafficSource.adwordsClickInfo.slot'] == 'RHS', 1, 0)    \n",
    "    df['trafSrc_camp'] = np.where(df['trafficSource.campaign'].isin(['Data Share Promo','AW - Dynamic Search Ads Whole Site',\\\n",
    "                                                                     'AW - Electronics','AW - Accessories','All Products']),1,0)\n",
    "    df['trafSrc_isTrueDir_isNULL'] = np.where(df['trafficSource.isTrueDirect'].isnull(), 1, 0)\n",
    "    df['trafSrc_isTrueDir_True'] = np.where(df['trafficSource.isTrueDirect'] == 'True', 1, 0)\n",
    "    \n",
    "    df['trafSrc_kw_others'] = np.where(df['trafficSource.keyword'].isin(['water bottle','(not provided)',\n",
    "           '(Remarketing/Content targeting)', '6qEhsCssdK0z36ri',\n",
    "           '(automatic matching)', 'Google men', '1hZbAqLCbjwfgOH7',\n",
    "           '1X4Me6ZKNV0zg-jV', 'google online merchandise',\n",
    "           'google water bottle', '(User vertical targeting)',\n",
    "           'google company store', 'https://www.googlemerchandisestore.com/',\n",
    "           'letterman jacket ebay', 'google canada',\n",
    "           'Google where is gabika clothing', 'google online shops',\n",
    "           'google Merchandising kosten', 'www.google.com bag',\n",
    "           'youtube youtube', 'youtube www youtube com', 'merchdise',\n",
    "           'yputube', 'youtube', 'www you tope', 'youtubeshop',\n",
    "           'googel store', 'google shirts buy', 'Google mens']), 1, 0)\n",
    "    \n",
    "    df['trafSrc_kw_isNULL'] = np.where(df['trafficSource.keyword'].isnull(),1,0)\n",
    "    \n",
    "    df['trafSrc_medium_org'] = np.where(df['trafficSource.medium'] == 'organic', 1, 0)\n",
    "    df['trafSrc_medium_ref'] = np.where(df['trafficSource.medium'] == 'referral', 1, 0)\n",
    "    df['trafSrc_medium_isNULL'] = np.where(df['trafficSource.medium'] == '(none)', 1, 0)\n",
    "    df['trafSrc_medium_cpc'] = np.where(df['trafficSource.medium'] == 'cpc', 1, 0)\n",
    "    df['trafSrc_medium_aff'] = np.where(df['trafficSource.medium'] == 'affiliate', 1, 0)\n",
    "    df['trafSrc_medium_cpm'] = np.where(df['trafficSource.medium'] == 'cpm', 1, 0)\n",
    "    \n",
    "    \n",
    "    df_shobhit = df.groupby('fullVisitorId').agg({'trafSrc_page2_isNULL': 'sum', 'trafSrc_page2': 'sum', 'trafSrc_page2_others': 'sum', \\\n",
    "                                                  'trafSrc_camp': 'sum', 'trafSrc_isTrueDir_isNULL': 'sum', 'trafSrc_isTrueDir_True': 'sum', \\\n",
    "                                                  'trafSrc_kw_others': 'sum', 'trafSrc_kw_isNULL': 'sum', 'trafSrc_medium_org': 'sum', \\\n",
    "                                                  'trafSrc_medium_ref': 'sum', 'trafSrc_medium_isNULL': 'sum', 'trafSrc_medium_cpc': 'sum', \\\n",
    "                                                  'trafSrc_medium_aff': 'sum','trafSrc_medium_cpm': 'sum'})\n",
    "    \n",
    "\n",
    "    df_shobhit.reset_index(level=0, inplace=True)\n",
    "#     print(df_target.shape)\n",
    "    df_final = pd.merge(df_target, df_visits, how = 'left', on = 'fullVisitorId')\n",
    "#     print(df_final.shape)\n",
    "    df_final = pd.merge(df_final, df_channel, how = 'left', on = 'fullVisitorId')\n",
    "#     print(df_final.shape)\n",
    "    df_final = pd.merge(df_final, df_boyang, how = 'left', on = 'fullVisitorId')\n",
    "#     print(df_final.shape)\n",
    "    df_final = pd.merge(df_final, df_samira, how = 'left', on = 'fullVisitorId')\n",
    "#     print(df_final.shape)\n",
    "    df_final = pd.merge(df_final, df_shobhit, how = 'left', on = 'fullVisitorId')\n",
    "#     print(df_final.shape)\n",
    "    \n",
    "    print('data munge done!!')\n",
    "    \n",
    "    return df_final"
   ]
  },
  {
   "cell_type": "code",
   "execution_count": 27,
   "metadata": {},
   "outputs": [],
   "source": [
    "def target_variable(filename, from_date, to_date):    \n",
    "    df = data[(data['date']>=from_date) & (data['date']<to_date)]\n",
    "    print(\"date range\",min(df['date']), max(df['date']))\n",
    "    \n",
    "    df = load_df(df)\n",
    "    df_target = df[['fullVisitorId', 'totals.transactionRevenue']]\n",
    "    df_target['totals.transactionRevenue'] = df_target['totals.transactionRevenue'].astype(float)\n",
    "    df_target = df_target.fillna(0)\n",
    "    df_target = df_target.groupby('fullVisitorId').agg({'totals.transactionRevenue':'sum'})\n",
    "    df_target['LogRevenue'] = np.log(df_target['totals.transactionRevenue'].astype(float) + 1)\n",
    "    df_target['Purchase'] = df_target['LogRevenue'].swifter.apply(flag)\n",
    "    df_target = df_target[['LogRevenue', 'Purchase']].reset_index()\n",
    "    df_target.columns = ['fullVisitorId', 'LogRevenue_y', 'Purchase_y']\n",
    "    \n",
    "    current_df = pd.read_csv('final_data/'+filename, sep = ',')\n",
    "\n",
    "    final = pd.merge(current_df, df_target, on = 'fullVisitorId', how = 'left')\n",
    "#     final['LogRevenue_y'] = np.where(final['LogRevenue_y'].isnull(), 0, final['LogRevenue_y'])\n",
    "#     final['Purchase_y'] = np.where(final['Purchase_y'] == 1, 1, 0)\n",
    "    final= final.fillna(0)\n",
    "#     final['LogRevenue_y'] = final['LogRevenue_y'].fillna(0)\n",
    "    final.to_csv('final/'+filename, sep = ',', index = False , float_format='%f')\n",
    "    print('final file characteristics')\n",
    "    print(final.shape)\n",
    "    print(final[['Purchase_y', 'LogRevenue_y']].sum())\n",
    "    \n",
    "    return final"
   ]
  },
  {
   "cell_type": "code",
   "execution_count": 224,
   "metadata": {},
   "outputs": [],
   "source": [
    "training_from = [20160801,20160901, 20161001, 20161101, 20161201, 20170101, 20170201, 20170301, 20170401, 20170501, 20170601, 20170701, 20170801] \n",
    "training_to = [20170115,20170215,  20170315,  20170415,  20170515,  20170615,  20170715,  20170815,  20170915,  20171015,  20171115,  20171215,  20180115]  \n",
    "\n",
    "target_from = [20170301,20170401,20170501,20170601,20170701,20170801,20170901,20171001,20171101,20171201,20180101,20180201,20180301]\n",
    "target_to = [20170501,20170601,20170701,20170801,20170901,20171001,20171101,20171201,20180101,20180201,20180301,20180401,20180501]"
   ]
  },
  {
   "cell_type": "code",
   "execution_count": 158,
   "metadata": {},
   "outputs": [],
   "source": [
    "train1[['fullVisitorId', 'LogRevenue']].to_csv('final_data/test.csv', index = False, float_format='%f')"
   ]
  },
  {
   "cell_type": "code",
   "execution_count": 229,
   "metadata": {
    "collapsed": true,
    "jupyter": {
     "outputs_hidden": true
    }
   },
   "outputs": [
    {
     "name": "stdout",
     "output_type": "stream",
     "text": [
      "Iteration: 0\n",
      "Date Range 20160801 20170115\n",
      "# of Visitors 377186\n",
      "shape of training (465858, 10)\n",
      "input shape: (465858, 10)\n",
      "Splitting Json Done!! final shape: (465858, 56)\n",
      "Final Shape (465858, 56)\n",
      "# of Visitors 377186\n"
     ]
    },
    {
     "data": {
      "application/vnd.jupyter.widget-view+json": {
       "model_id": "13f6d287cbc5480b9bf46210aea40d53",
       "version_major": 2,
       "version_minor": 0
      },
      "text/plain": [
       "HBox(children=(IntProgress(value=0, description='Pandas Apply', max=377186, style=ProgressStyle(description_wi…"
      ]
     },
     "metadata": {},
     "output_type": "display_data"
    },
    {
     "name": "stdout",
     "output_type": "stream",
     "text": [
      "\n"
     ]
    },
    {
     "data": {
      "application/vnd.jupyter.widget-view+json": {
       "model_id": "d574f4d6da30446fa4b82dbc096511cc",
       "version_major": 2,
       "version_minor": 0
      },
      "text/plain": [
       "HBox(children=(IntProgress(value=0, description='Pandas Apply', max=465858, style=ProgressStyle(description_wi…"
      ]
     },
     "metadata": {},
     "output_type": "display_data"
    },
    {
     "name": "stdout",
     "output_type": "stream",
     "text": [
      "\n"
     ]
    },
    {
     "data": {
      "application/vnd.jupyter.widget-view+json": {
       "model_id": "1adc8187944b40798943fad279e109ba",
       "version_major": 2,
       "version_minor": 0
      },
      "text/plain": [
       "HBox(children=(IntProgress(value=0, description='Pandas Apply', max=465858, style=ProgressStyle(description_wi…"
      ]
     },
     "metadata": {},
     "output_type": "display_data"
    },
    {
     "name": "stdout",
     "output_type": "stream",
     "text": [
      "\n"
     ]
    },
    {
     "data": {
      "application/vnd.jupyter.widget-view+json": {
       "model_id": "541e228b7fd3476a82456faeaf96d286",
       "version_major": 2,
       "version_minor": 0
      },
      "text/plain": [
       "HBox(children=(IntProgress(value=0, description='Pandas Apply', max=465858, style=ProgressStyle(description_wi…"
      ]
     },
     "metadata": {},
     "output_type": "display_data"
    },
    {
     "name": "stdout",
     "output_type": "stream",
     "text": [
      "\n"
     ]
    },
    {
     "data": {
      "application/vnd.jupyter.widget-view+json": {
       "model_id": "d7675c647124459ab76137aabc1f55a5",
       "version_major": 2,
       "version_minor": 0
      },
      "text/plain": [
       "HBox(children=(IntProgress(value=0, description='Pandas Apply', max=465858, style=ProgressStyle(description_wi…"
      ]
     },
     "metadata": {},
     "output_type": "display_data"
    },
    {
     "name": "stdout",
     "output_type": "stream",
     "text": [
      "\n"
     ]
    },
    {
     "data": {
      "application/vnd.jupyter.widget-view+json": {
       "model_id": "0dfaa714df234e9cac1bb64f1e0ce0d2",
       "version_major": 2,
       "version_minor": 0
      },
      "text/plain": [
       "HBox(children=(IntProgress(value=0, description='Pandas Apply', max=465858, style=ProgressStyle(description_wi…"
      ]
     },
     "metadata": {},
     "output_type": "display_data"
    },
    {
     "name": "stdout",
     "output_type": "stream",
     "text": [
      "\n"
     ]
    },
    {
     "data": {
      "application/vnd.jupyter.widget-view+json": {
       "model_id": "7b3aa41ff5634bcf8300b41cc4279942",
       "version_major": 2,
       "version_minor": 0
      },
      "text/plain": [
       "HBox(children=(IntProgress(value=0, description='Pandas Apply', max=465858, style=ProgressStyle(description_wi…"
      ]
     },
     "metadata": {},
     "output_type": "display_data"
    },
    {
     "name": "stdout",
     "output_type": "stream",
     "text": [
      "\n",
      "data munge done!!\n",
      "Purchase\n",
      "0    375492\n",
      "1      1694\n",
      "dtype: int64\n",
      "\n",
      "\n",
      "date range 20170301 20170430\n",
      "input shape: (137057, 10)\n",
      "Splitting Json Done!! final shape: (137057, 55)\n"
     ]
    },
    {
     "data": {
      "application/vnd.jupyter.widget-view+json": {
       "model_id": "b8738c5f36e846bebbd29de67ab7d1f8",
       "version_major": 2,
       "version_minor": 0
      },
      "text/plain": [
       "HBox(children=(IntProgress(value=0, description='Pandas Apply', max=111299, style=ProgressStyle(description_wi…"
      ]
     },
     "metadata": {},
     "output_type": "display_data"
    },
    {
     "name": "stdout",
     "output_type": "stream",
     "text": [
      "\n",
      "final file characteristics\n",
      "(377186, 50)\n",
      "Purchase_y      0.0\n",
      "LogRevenue_y    0.0\n",
      "dtype: float64\n",
      "        LogRevenue_y    Purchase_y\n",
      "0       1.574933e+09  1.574933e+09\n",
      "1       1.574933e+09  1.574933e+09\n",
      "2       1.574933e+09  1.574933e+09\n",
      "3       1.574933e+09  1.574933e+09\n",
      "4       1.574933e+09  1.574933e+09\n",
      "...              ...           ...\n",
      "377181  1.574933e+09  1.574933e+09\n",
      "377182  1.574933e+09  1.574933e+09\n",
      "377183  1.574933e+09  1.574933e+09\n",
      "377184  1.574933e+09  1.574933e+09\n",
      "377185  1.574933e+09  1.574933e+09\n",
      "\n",
      "[377186 rows x 2 columns]\n",
      "Iteration Done\n",
      "Iteration: 1\n",
      "Date Range 20160901 20170215\n",
      "# of Visitors 371966\n",
      "shape of training (459384, 10)\n",
      "input shape: (459384, 10)\n",
      "Splitting Json Done!! final shape: (459384, 55)\n",
      "Final Shape (459384, 55)\n",
      "# of Visitors 371966\n"
     ]
    },
    {
     "data": {
      "application/vnd.jupyter.widget-view+json": {
       "model_id": "a5e8619ec86a4f6086104c93993b87c5",
       "version_major": 2,
       "version_minor": 0
      },
      "text/plain": [
       "HBox(children=(IntProgress(value=0, description='Pandas Apply', max=371966, style=ProgressStyle(description_wi…"
      ]
     },
     "metadata": {},
     "output_type": "display_data"
    },
    {
     "name": "stdout",
     "output_type": "stream",
     "text": [
      "\n"
     ]
    },
    {
     "data": {
      "application/vnd.jupyter.widget-view+json": {
       "model_id": "44778f1e517d4d67a8c0f7abbf271522",
       "version_major": 2,
       "version_minor": 0
      },
      "text/plain": [
       "HBox(children=(IntProgress(value=0, description='Pandas Apply', max=459384, style=ProgressStyle(description_wi…"
      ]
     },
     "metadata": {},
     "output_type": "display_data"
    },
    {
     "name": "stdout",
     "output_type": "stream",
     "text": [
      "\n"
     ]
    },
    {
     "data": {
      "application/vnd.jupyter.widget-view+json": {
       "model_id": "8dd9563f7e9b48c9baa9e41fc544b433",
       "version_major": 2,
       "version_minor": 0
      },
      "text/plain": [
       "HBox(children=(IntProgress(value=0, description='Pandas Apply', max=459384, style=ProgressStyle(description_wi…"
      ]
     },
     "metadata": {},
     "output_type": "display_data"
    },
    {
     "name": "stdout",
     "output_type": "stream",
     "text": [
      "\n"
     ]
    },
    {
     "data": {
      "application/vnd.jupyter.widget-view+json": {
       "model_id": "f30152a2bdd44c0a87c81476e0cae347",
       "version_major": 2,
       "version_minor": 0
      },
      "text/plain": [
       "HBox(children=(IntProgress(value=0, description='Pandas Apply', max=459384, style=ProgressStyle(description_wi…"
      ]
     },
     "metadata": {},
     "output_type": "display_data"
    },
    {
     "name": "stdout",
     "output_type": "stream",
     "text": [
      "\n"
     ]
    },
    {
     "data": {
      "application/vnd.jupyter.widget-view+json": {
       "model_id": "7a0982ddda66443d960f49dd6b522aa1",
       "version_major": 2,
       "version_minor": 0
      },
      "text/plain": [
       "HBox(children=(IntProgress(value=0, description='Pandas Apply', max=459384, style=ProgressStyle(description_wi…"
      ]
     },
     "metadata": {},
     "output_type": "display_data"
    },
    {
     "name": "stdout",
     "output_type": "stream",
     "text": [
      "\n"
     ]
    },
    {
     "data": {
      "application/vnd.jupyter.widget-view+json": {
       "model_id": "3582518c932c4444becaf05e3a652c8e",
       "version_major": 2,
       "version_minor": 0
      },
      "text/plain": [
       "HBox(children=(IntProgress(value=0, description='Pandas Apply', max=459384, style=ProgressStyle(description_wi…"
      ]
     },
     "metadata": {},
     "output_type": "display_data"
    },
    {
     "name": "stdout",
     "output_type": "stream",
     "text": [
      "\n"
     ]
    },
    {
     "data": {
      "application/vnd.jupyter.widget-view+json": {
       "model_id": "8fd3ea144827469bbfe91de22d4b50f9",
       "version_major": 2,
       "version_minor": 0
      },
      "text/plain": [
       "HBox(children=(IntProgress(value=0, description='Pandas Apply', max=459384, style=ProgressStyle(description_wi…"
      ]
     },
     "metadata": {},
     "output_type": "display_data"
    },
    {
     "name": "stdout",
     "output_type": "stream",
     "text": [
      "\n",
      "data munge done!!\n",
      "Purchase\n",
      "0    370255\n",
      "1      1711\n",
      "dtype: int64\n",
      "\n",
      "\n",
      "date range 20170401 20170531\n",
      "input shape: (132497, 10)\n",
      "Splitting Json Done!! final shape: (132497, 55)\n"
     ]
    },
    {
     "data": {
      "application/vnd.jupyter.widget-view+json": {
       "model_id": "9d0724981386421f83228101d3b4e69b",
       "version_major": 2,
       "version_minor": 0
      },
      "text/plain": [
       "HBox(children=(IntProgress(value=0, description='Pandas Apply', max=105537, style=ProgressStyle(description_wi…"
      ]
     },
     "metadata": {},
     "output_type": "display_data"
    },
    {
     "name": "stdout",
     "output_type": "stream",
     "text": [
      "\n",
      "final file characteristics\n",
      "(371966, 50)\n",
      "Purchase_y      0.0\n",
      "LogRevenue_y    0.0\n",
      "dtype: float64\n",
      "        LogRevenue_y    Purchase_y\n",
      "0       1.574933e+09  1.574933e+09\n",
      "1       1.574933e+09  1.574933e+09\n",
      "2       1.574933e+09  1.574933e+09\n",
      "3       1.574933e+09  1.574933e+09\n",
      "4       1.574933e+09  1.574933e+09\n",
      "...              ...           ...\n",
      "377181  1.574933e+09  1.574933e+09\n",
      "377182  1.574933e+09  1.574933e+09\n",
      "377183  1.574933e+09  1.574933e+09\n",
      "377184  1.574933e+09  1.574933e+09\n",
      "377185  1.574933e+09  1.574933e+09\n",
      "\n",
      "[377186 rows x 2 columns]\n",
      "Iteration Done\n",
      "Iteration: 2\n",
      "Date Range 20161001 20170315\n",
      "# of Visitors 365362\n",
      "shape of training (450592, 10)\n",
      "input shape: (450592, 10)\n"
     ]
    },
    {
     "ename": "KeyboardInterrupt",
     "evalue": "",
     "output_type": "error",
     "traceback": [
      "\u001b[0;31m---------------------------------------------------------------------------\u001b[0m",
      "\u001b[0;31mKeyboardInterrupt\u001b[0m                         Traceback (most recent call last)",
      "\u001b[0;32m<ipython-input-229-1dbc61fee5e9>\u001b[0m in \u001b[0;36m<module>\u001b[0;34m\u001b[0m\n\u001b[1;32m      2\u001b[0m     \u001b[0mx\u001b[0m \u001b[0;34m=\u001b[0m \u001b[0mtime\u001b[0m\u001b[0;34m.\u001b[0m\u001b[0mtime\u001b[0m\u001b[0;34m(\u001b[0m\u001b[0;34m)\u001b[0m\u001b[0;34m\u001b[0m\u001b[0;34m\u001b[0m\u001b[0m\n\u001b[1;32m      3\u001b[0m     \u001b[0mprint\u001b[0m\u001b[0;34m(\u001b[0m\u001b[0;34m'Iteration:'\u001b[0m\u001b[0;34m,\u001b[0m\u001b[0mi\u001b[0m\u001b[0;34m)\u001b[0m\u001b[0;34m\u001b[0m\u001b[0;34m\u001b[0m\u001b[0m\n\u001b[0;32m----> 4\u001b[0;31m     \u001b[0mtraining\u001b[0m \u001b[0;34m=\u001b[0m \u001b[0mmungemunge\u001b[0m\u001b[0;34m(\u001b[0m\u001b[0mtraining_from\u001b[0m\u001b[0;34m[\u001b[0m\u001b[0mi\u001b[0m\u001b[0;34m]\u001b[0m\u001b[0;34m,\u001b[0m \u001b[0mtraining_to\u001b[0m\u001b[0;34m[\u001b[0m\u001b[0mi\u001b[0m\u001b[0;34m]\u001b[0m\u001b[0;34m)\u001b[0m\u001b[0;34m\u001b[0m\u001b[0;34m\u001b[0m\u001b[0m\n\u001b[0m\u001b[1;32m      5\u001b[0m     \u001b[0mtrain1\u001b[0m \u001b[0;34m=\u001b[0m \u001b[0mdata_munge\u001b[0m\u001b[0;34m(\u001b[0m\u001b[0mtraining\u001b[0m\u001b[0;34m)\u001b[0m\u001b[0;34m\u001b[0m\u001b[0;34m\u001b[0m\u001b[0m\n\u001b[1;32m      6\u001b[0m     \u001b[0mprint\u001b[0m\u001b[0;34m(\u001b[0m\u001b[0mtrain1\u001b[0m\u001b[0;34m.\u001b[0m\u001b[0mgroupby\u001b[0m\u001b[0;34m(\u001b[0m\u001b[0;34m'Purchase'\u001b[0m\u001b[0;34m)\u001b[0m\u001b[0;34m.\u001b[0m\u001b[0msize\u001b[0m\u001b[0;34m(\u001b[0m\u001b[0;34m)\u001b[0m\u001b[0;34m)\u001b[0m\u001b[0;34m\u001b[0m\u001b[0;34m\u001b[0m\u001b[0m\n",
      "\u001b[0;32m<ipython-input-219-cba11ea43150>\u001b[0m in \u001b[0;36mmungemunge\u001b[0;34m(from_date, to_date)\u001b[0m\n\u001b[1;32m      7\u001b[0m \u001b[0;34m\u001b[0m\u001b[0m\n\u001b[1;32m      8\u001b[0m \u001b[0;31m#     print(\"Load Dataframe to expand JSON\")\u001b[0m\u001b[0;34m\u001b[0m\u001b[0;34m\u001b[0m\u001b[0;34m\u001b[0m\u001b[0m\n\u001b[0;32m----> 9\u001b[0;31m     \u001b[0mtraining\u001b[0m \u001b[0;34m=\u001b[0m \u001b[0mload_df\u001b[0m\u001b[0;34m(\u001b[0m\u001b[0mtrain\u001b[0m\u001b[0;34m)\u001b[0m\u001b[0;34m\u001b[0m\u001b[0;34m\u001b[0m\u001b[0m\n\u001b[0m\u001b[1;32m     10\u001b[0m     \u001b[0mprint\u001b[0m\u001b[0;34m(\u001b[0m\u001b[0;34m\"Final Shape\"\u001b[0m\u001b[0;34m,\u001b[0m\u001b[0mtraining\u001b[0m\u001b[0;34m.\u001b[0m\u001b[0mshape\u001b[0m\u001b[0;34m)\u001b[0m\u001b[0;34m\u001b[0m\u001b[0;34m\u001b[0m\u001b[0m\n\u001b[1;32m     11\u001b[0m     \u001b[0mprint\u001b[0m\u001b[0;34m(\u001b[0m\u001b[0;34m\"# of Visitors\"\u001b[0m\u001b[0;34m,\u001b[0m\u001b[0mlen\u001b[0m\u001b[0;34m(\u001b[0m\u001b[0mtraining\u001b[0m\u001b[0;34m.\u001b[0m\u001b[0mfullVisitorId\u001b[0m\u001b[0;34m.\u001b[0m\u001b[0munique\u001b[0m\u001b[0;34m(\u001b[0m\u001b[0;34m)\u001b[0m\u001b[0;34m)\u001b[0m\u001b[0;34m)\u001b[0m\u001b[0;34m\u001b[0m\u001b[0;34m\u001b[0m\u001b[0m\n",
      "\u001b[0;32m<ipython-input-220-ca349ad4fc58>\u001b[0m in \u001b[0;36mload_df\u001b[0;34m(df1)\u001b[0m\n\u001b[1;32m      8\u001b[0m         \u001b[0mcolumn_as_df\u001b[0m \u001b[0;34m=\u001b[0m \u001b[0mjson_normalize\u001b[0m\u001b[0;34m(\u001b[0m\u001b[0mdf1\u001b[0m\u001b[0;34m[\u001b[0m\u001b[0mcolumn\u001b[0m\u001b[0;34m]\u001b[0m\u001b[0;34m)\u001b[0m\u001b[0;34m\u001b[0m\u001b[0;34m\u001b[0m\u001b[0m\n\u001b[1;32m      9\u001b[0m         \u001b[0mcolumn_as_df\u001b[0m\u001b[0;34m.\u001b[0m\u001b[0mcolumns\u001b[0m \u001b[0;34m=\u001b[0m \u001b[0;34m[\u001b[0m\u001b[0;34mf\"{column}.{subcolumn}\"\u001b[0m \u001b[0;32mfor\u001b[0m \u001b[0msubcolumn\u001b[0m \u001b[0;32min\u001b[0m \u001b[0mcolumn_as_df\u001b[0m\u001b[0;34m.\u001b[0m\u001b[0mcolumns\u001b[0m\u001b[0;34m]\u001b[0m\u001b[0;34m\u001b[0m\u001b[0;34m\u001b[0m\u001b[0m\n\u001b[0;32m---> 10\u001b[0;31m         \u001b[0mdf1\u001b[0m \u001b[0;34m=\u001b[0m \u001b[0mdf1\u001b[0m\u001b[0;34m.\u001b[0m\u001b[0mdrop\u001b[0m\u001b[0;34m(\u001b[0m\u001b[0mcolumn\u001b[0m\u001b[0;34m,\u001b[0m \u001b[0maxis\u001b[0m\u001b[0;34m=\u001b[0m\u001b[0;36m1\u001b[0m\u001b[0;34m)\u001b[0m\u001b[0;34m.\u001b[0m\u001b[0mmerge\u001b[0m\u001b[0;34m(\u001b[0m\u001b[0mcolumn_as_df\u001b[0m\u001b[0;34m,\u001b[0m \u001b[0mright_index\u001b[0m\u001b[0;34m=\u001b[0m\u001b[0;32mTrue\u001b[0m\u001b[0;34m,\u001b[0m \u001b[0mleft_index\u001b[0m\u001b[0;34m=\u001b[0m\u001b[0;32mTrue\u001b[0m\u001b[0;34m,\u001b[0m \u001b[0mhow\u001b[0m \u001b[0;34m=\u001b[0m \u001b[0;34m'left'\u001b[0m\u001b[0;34m)\u001b[0m\u001b[0;34m\u001b[0m\u001b[0;34m\u001b[0m\u001b[0m\n\u001b[0m\u001b[1;32m     11\u001b[0m \u001b[0;31m#     print(time.time() -a)\u001b[0m\u001b[0;34m\u001b[0m\u001b[0;34m\u001b[0m\u001b[0;34m\u001b[0m\u001b[0m\n\u001b[1;32m     12\u001b[0m     \u001b[0mprint\u001b[0m\u001b[0;34m(\u001b[0m\u001b[0;34m'Splitting Json Done!! final shape:'\u001b[0m\u001b[0;34m,\u001b[0m \u001b[0mdf1\u001b[0m\u001b[0;34m.\u001b[0m\u001b[0mshape\u001b[0m\u001b[0;34m)\u001b[0m\u001b[0;34m\u001b[0m\u001b[0;34m\u001b[0m\u001b[0m\n",
      "\u001b[0;32m~/anaconda3/lib/python3.7/site-packages/pandas/core/frame.py\u001b[0m in \u001b[0;36mdrop\u001b[0;34m(self, labels, axis, index, columns, level, inplace, errors)\u001b[0m\n\u001b[1;32m   4100\u001b[0m             \u001b[0mlevel\u001b[0m\u001b[0;34m=\u001b[0m\u001b[0mlevel\u001b[0m\u001b[0;34m,\u001b[0m\u001b[0;34m\u001b[0m\u001b[0;34m\u001b[0m\u001b[0m\n\u001b[1;32m   4101\u001b[0m             \u001b[0minplace\u001b[0m\u001b[0;34m=\u001b[0m\u001b[0minplace\u001b[0m\u001b[0;34m,\u001b[0m\u001b[0;34m\u001b[0m\u001b[0;34m\u001b[0m\u001b[0m\n\u001b[0;32m-> 4102\u001b[0;31m             \u001b[0merrors\u001b[0m\u001b[0;34m=\u001b[0m\u001b[0merrors\u001b[0m\u001b[0;34m,\u001b[0m\u001b[0;34m\u001b[0m\u001b[0;34m\u001b[0m\u001b[0m\n\u001b[0m\u001b[1;32m   4103\u001b[0m         )\n\u001b[1;32m   4104\u001b[0m \u001b[0;34m\u001b[0m\u001b[0m\n",
      "\u001b[0;32m~/anaconda3/lib/python3.7/site-packages/pandas/core/generic.py\u001b[0m in \u001b[0;36mdrop\u001b[0;34m(self, labels, axis, index, columns, level, inplace, errors)\u001b[0m\n\u001b[1;32m   3912\u001b[0m         \u001b[0;32mfor\u001b[0m \u001b[0maxis\u001b[0m\u001b[0;34m,\u001b[0m \u001b[0mlabels\u001b[0m \u001b[0;32min\u001b[0m \u001b[0maxes\u001b[0m\u001b[0;34m.\u001b[0m\u001b[0mitems\u001b[0m\u001b[0;34m(\u001b[0m\u001b[0;34m)\u001b[0m\u001b[0;34m:\u001b[0m\u001b[0;34m\u001b[0m\u001b[0;34m\u001b[0m\u001b[0m\n\u001b[1;32m   3913\u001b[0m             \u001b[0;32mif\u001b[0m \u001b[0mlabels\u001b[0m \u001b[0;32mis\u001b[0m \u001b[0;32mnot\u001b[0m \u001b[0;32mNone\u001b[0m\u001b[0;34m:\u001b[0m\u001b[0;34m\u001b[0m\u001b[0;34m\u001b[0m\u001b[0m\n\u001b[0;32m-> 3914\u001b[0;31m                 \u001b[0mobj\u001b[0m \u001b[0;34m=\u001b[0m \u001b[0mobj\u001b[0m\u001b[0;34m.\u001b[0m\u001b[0m_drop_axis\u001b[0m\u001b[0;34m(\u001b[0m\u001b[0mlabels\u001b[0m\u001b[0;34m,\u001b[0m \u001b[0maxis\u001b[0m\u001b[0;34m,\u001b[0m \u001b[0mlevel\u001b[0m\u001b[0;34m=\u001b[0m\u001b[0mlevel\u001b[0m\u001b[0;34m,\u001b[0m \u001b[0merrors\u001b[0m\u001b[0;34m=\u001b[0m\u001b[0merrors\u001b[0m\u001b[0;34m)\u001b[0m\u001b[0;34m\u001b[0m\u001b[0;34m\u001b[0m\u001b[0m\n\u001b[0m\u001b[1;32m   3915\u001b[0m \u001b[0;34m\u001b[0m\u001b[0m\n\u001b[1;32m   3916\u001b[0m         \u001b[0;32mif\u001b[0m \u001b[0minplace\u001b[0m\u001b[0;34m:\u001b[0m\u001b[0;34m\u001b[0m\u001b[0;34m\u001b[0m\u001b[0m\n",
      "\u001b[0;32m~/anaconda3/lib/python3.7/site-packages/pandas/core/generic.py\u001b[0m in \u001b[0;36m_drop_axis\u001b[0;34m(self, labels, axis, level, errors)\u001b[0m\n\u001b[1;32m   3945\u001b[0m             \u001b[0;32melse\u001b[0m\u001b[0;34m:\u001b[0m\u001b[0;34m\u001b[0m\u001b[0;34m\u001b[0m\u001b[0m\n\u001b[1;32m   3946\u001b[0m                 \u001b[0mnew_axis\u001b[0m \u001b[0;34m=\u001b[0m \u001b[0maxis\u001b[0m\u001b[0;34m.\u001b[0m\u001b[0mdrop\u001b[0m\u001b[0;34m(\u001b[0m\u001b[0mlabels\u001b[0m\u001b[0;34m,\u001b[0m \u001b[0merrors\u001b[0m\u001b[0;34m=\u001b[0m\u001b[0merrors\u001b[0m\u001b[0;34m)\u001b[0m\u001b[0;34m\u001b[0m\u001b[0;34m\u001b[0m\u001b[0m\n\u001b[0;32m-> 3947\u001b[0;31m             \u001b[0mresult\u001b[0m \u001b[0;34m=\u001b[0m \u001b[0mself\u001b[0m\u001b[0;34m.\u001b[0m\u001b[0mreindex\u001b[0m\u001b[0;34m(\u001b[0m\u001b[0;34m**\u001b[0m\u001b[0;34m{\u001b[0m\u001b[0maxis_name\u001b[0m\u001b[0;34m:\u001b[0m \u001b[0mnew_axis\u001b[0m\u001b[0;34m}\u001b[0m\u001b[0;34m)\u001b[0m\u001b[0;34m\u001b[0m\u001b[0;34m\u001b[0m\u001b[0m\n\u001b[0m\u001b[1;32m   3948\u001b[0m \u001b[0;34m\u001b[0m\u001b[0m\n\u001b[1;32m   3949\u001b[0m         \u001b[0;31m# Case for non-unique axis\u001b[0m\u001b[0;34m\u001b[0m\u001b[0;34m\u001b[0m\u001b[0;34m\u001b[0m\u001b[0m\n",
      "\u001b[0;32m~/anaconda3/lib/python3.7/site-packages/pandas/util/_decorators.py\u001b[0m in \u001b[0;36mwrapper\u001b[0;34m(*args, **kwargs)\u001b[0m\n\u001b[1;32m    219\u001b[0m         \u001b[0;34m@\u001b[0m\u001b[0mwraps\u001b[0m\u001b[0;34m(\u001b[0m\u001b[0mfunc\u001b[0m\u001b[0;34m)\u001b[0m\u001b[0;34m\u001b[0m\u001b[0;34m\u001b[0m\u001b[0m\n\u001b[1;32m    220\u001b[0m         \u001b[0;32mdef\u001b[0m \u001b[0mwrapper\u001b[0m\u001b[0;34m(\u001b[0m\u001b[0;34m*\u001b[0m\u001b[0margs\u001b[0m\u001b[0;34m,\u001b[0m \u001b[0;34m**\u001b[0m\u001b[0mkwargs\u001b[0m\u001b[0;34m)\u001b[0m\u001b[0;34m:\u001b[0m\u001b[0;34m\u001b[0m\u001b[0;34m\u001b[0m\u001b[0m\n\u001b[0;32m--> 221\u001b[0;31m             \u001b[0;32mreturn\u001b[0m \u001b[0mfunc\u001b[0m\u001b[0;34m(\u001b[0m\u001b[0;34m*\u001b[0m\u001b[0margs\u001b[0m\u001b[0;34m,\u001b[0m \u001b[0;34m**\u001b[0m\u001b[0mkwargs\u001b[0m\u001b[0;34m)\u001b[0m\u001b[0;34m\u001b[0m\u001b[0;34m\u001b[0m\u001b[0m\n\u001b[0m\u001b[1;32m    222\u001b[0m \u001b[0;34m\u001b[0m\u001b[0m\n\u001b[1;32m    223\u001b[0m         \u001b[0mkind\u001b[0m \u001b[0;34m=\u001b[0m \u001b[0minspect\u001b[0m\u001b[0;34m.\u001b[0m\u001b[0mParameter\u001b[0m\u001b[0;34m.\u001b[0m\u001b[0mPOSITIONAL_OR_KEYWORD\u001b[0m\u001b[0;34m\u001b[0m\u001b[0;34m\u001b[0m\u001b[0m\n",
      "\u001b[0;32m~/anaconda3/lib/python3.7/site-packages/pandas/core/frame.py\u001b[0m in \u001b[0;36mreindex\u001b[0;34m(self, *args, **kwargs)\u001b[0m\n\u001b[1;32m   3959\u001b[0m         \u001b[0mkwargs\u001b[0m\u001b[0;34m.\u001b[0m\u001b[0mpop\u001b[0m\u001b[0;34m(\u001b[0m\u001b[0;34m\"axis\"\u001b[0m\u001b[0;34m,\u001b[0m \u001b[0;32mNone\u001b[0m\u001b[0;34m)\u001b[0m\u001b[0;34m\u001b[0m\u001b[0;34m\u001b[0m\u001b[0m\n\u001b[1;32m   3960\u001b[0m         \u001b[0mkwargs\u001b[0m\u001b[0;34m.\u001b[0m\u001b[0mpop\u001b[0m\u001b[0;34m(\u001b[0m\u001b[0;34m\"labels\"\u001b[0m\u001b[0;34m,\u001b[0m \u001b[0;32mNone\u001b[0m\u001b[0;34m)\u001b[0m\u001b[0;34m\u001b[0m\u001b[0;34m\u001b[0m\u001b[0m\n\u001b[0;32m-> 3961\u001b[0;31m         \u001b[0;32mreturn\u001b[0m \u001b[0msuper\u001b[0m\u001b[0;34m(\u001b[0m\u001b[0;34m)\u001b[0m\u001b[0;34m.\u001b[0m\u001b[0mreindex\u001b[0m\u001b[0;34m(\u001b[0m\u001b[0;34m**\u001b[0m\u001b[0mkwargs\u001b[0m\u001b[0;34m)\u001b[0m\u001b[0;34m\u001b[0m\u001b[0;34m\u001b[0m\u001b[0m\n\u001b[0m\u001b[1;32m   3962\u001b[0m \u001b[0;34m\u001b[0m\u001b[0m\n\u001b[1;32m   3963\u001b[0m     def drop(\n",
      "\u001b[0;32m~/anaconda3/lib/python3.7/site-packages/pandas/core/generic.py\u001b[0m in \u001b[0;36mreindex\u001b[0;34m(self, *args, **kwargs)\u001b[0m\n\u001b[1;32m   4512\u001b[0m         \u001b[0;31m# perform the reindex on the axes\u001b[0m\u001b[0;34m\u001b[0m\u001b[0;34m\u001b[0m\u001b[0;34m\u001b[0m\u001b[0m\n\u001b[1;32m   4513\u001b[0m         return self._reindex_axes(\n\u001b[0;32m-> 4514\u001b[0;31m             \u001b[0maxes\u001b[0m\u001b[0;34m,\u001b[0m \u001b[0mlevel\u001b[0m\u001b[0;34m,\u001b[0m \u001b[0mlimit\u001b[0m\u001b[0;34m,\u001b[0m \u001b[0mtolerance\u001b[0m\u001b[0;34m,\u001b[0m \u001b[0mmethod\u001b[0m\u001b[0;34m,\u001b[0m \u001b[0mfill_value\u001b[0m\u001b[0;34m,\u001b[0m \u001b[0mcopy\u001b[0m\u001b[0;34m\u001b[0m\u001b[0;34m\u001b[0m\u001b[0m\n\u001b[0m\u001b[1;32m   4515\u001b[0m         ).__finalize__(self)\n\u001b[1;32m   4516\u001b[0m \u001b[0;34m\u001b[0m\u001b[0m\n",
      "\u001b[0;32m~/anaconda3/lib/python3.7/site-packages/pandas/core/frame.py\u001b[0m in \u001b[0;36m_reindex_axes\u001b[0;34m(self, axes, level, limit, tolerance, method, fill_value, copy)\u001b[0m\n\u001b[1;32m   3841\u001b[0m         \u001b[0;32mif\u001b[0m \u001b[0mcolumns\u001b[0m \u001b[0;32mis\u001b[0m \u001b[0;32mnot\u001b[0m \u001b[0;32mNone\u001b[0m\u001b[0;34m:\u001b[0m\u001b[0;34m\u001b[0m\u001b[0;34m\u001b[0m\u001b[0m\n\u001b[1;32m   3842\u001b[0m             frame = frame._reindex_columns(\n\u001b[0;32m-> 3843\u001b[0;31m                 \u001b[0mcolumns\u001b[0m\u001b[0;34m,\u001b[0m \u001b[0mmethod\u001b[0m\u001b[0;34m,\u001b[0m \u001b[0mcopy\u001b[0m\u001b[0;34m,\u001b[0m \u001b[0mlevel\u001b[0m\u001b[0;34m,\u001b[0m \u001b[0mfill_value\u001b[0m\u001b[0;34m,\u001b[0m \u001b[0mlimit\u001b[0m\u001b[0;34m,\u001b[0m \u001b[0mtolerance\u001b[0m\u001b[0;34m\u001b[0m\u001b[0;34m\u001b[0m\u001b[0m\n\u001b[0m\u001b[1;32m   3844\u001b[0m             )\n\u001b[1;32m   3845\u001b[0m \u001b[0;34m\u001b[0m\u001b[0m\n",
      "\u001b[0;32m~/anaconda3/lib/python3.7/site-packages/pandas/core/frame.py\u001b[0m in \u001b[0;36m_reindex_columns\u001b[0;34m(self, new_columns, method, copy, level, fill_value, limit, tolerance)\u001b[0m\n\u001b[1;32m   3889\u001b[0m             \u001b[0mcopy\u001b[0m\u001b[0;34m=\u001b[0m\u001b[0mcopy\u001b[0m\u001b[0;34m,\u001b[0m\u001b[0;34m\u001b[0m\u001b[0;34m\u001b[0m\u001b[0m\n\u001b[1;32m   3890\u001b[0m             \u001b[0mfill_value\u001b[0m\u001b[0;34m=\u001b[0m\u001b[0mfill_value\u001b[0m\u001b[0;34m,\u001b[0m\u001b[0;34m\u001b[0m\u001b[0;34m\u001b[0m\u001b[0m\n\u001b[0;32m-> 3891\u001b[0;31m             \u001b[0mallow_dups\u001b[0m\u001b[0;34m=\u001b[0m\u001b[0;32mFalse\u001b[0m\u001b[0;34m,\u001b[0m\u001b[0;34m\u001b[0m\u001b[0;34m\u001b[0m\u001b[0m\n\u001b[0m\u001b[1;32m   3892\u001b[0m         )\n\u001b[1;32m   3893\u001b[0m \u001b[0;34m\u001b[0m\u001b[0m\n",
      "\u001b[0;32m~/anaconda3/lib/python3.7/site-packages/pandas/core/generic.py\u001b[0m in \u001b[0;36m_reindex_with_indexers\u001b[0;34m(self, reindexers, fill_value, copy, allow_dups)\u001b[0m\n\u001b[1;32m   4575\u001b[0m                 \u001b[0mfill_value\u001b[0m\u001b[0;34m=\u001b[0m\u001b[0mfill_value\u001b[0m\u001b[0;34m,\u001b[0m\u001b[0;34m\u001b[0m\u001b[0;34m\u001b[0m\u001b[0m\n\u001b[1;32m   4576\u001b[0m                 \u001b[0mallow_dups\u001b[0m\u001b[0;34m=\u001b[0m\u001b[0mallow_dups\u001b[0m\u001b[0;34m,\u001b[0m\u001b[0;34m\u001b[0m\u001b[0;34m\u001b[0m\u001b[0m\n\u001b[0;32m-> 4577\u001b[0;31m                 \u001b[0mcopy\u001b[0m\u001b[0;34m=\u001b[0m\u001b[0mcopy\u001b[0m\u001b[0;34m,\u001b[0m\u001b[0;34m\u001b[0m\u001b[0;34m\u001b[0m\u001b[0m\n\u001b[0m\u001b[1;32m   4578\u001b[0m             )\n\u001b[1;32m   4579\u001b[0m \u001b[0;34m\u001b[0m\u001b[0m\n",
      "\u001b[0;32m~/anaconda3/lib/python3.7/site-packages/pandas/core/internals/managers.py\u001b[0m in \u001b[0;36mreindex_indexer\u001b[0;34m(self, new_axis, indexer, axis, fill_value, allow_dups, copy)\u001b[0m\n\u001b[1;32m   1255\u001b[0m \u001b[0;34m\u001b[0m\u001b[0m\n\u001b[1;32m   1256\u001b[0m         \u001b[0;32mif\u001b[0m \u001b[0maxis\u001b[0m \u001b[0;34m==\u001b[0m \u001b[0;36m0\u001b[0m\u001b[0;34m:\u001b[0m\u001b[0;34m\u001b[0m\u001b[0;34m\u001b[0m\u001b[0m\n\u001b[0;32m-> 1257\u001b[0;31m             \u001b[0mnew_blocks\u001b[0m \u001b[0;34m=\u001b[0m \u001b[0mself\u001b[0m\u001b[0;34m.\u001b[0m\u001b[0m_slice_take_blocks_ax0\u001b[0m\u001b[0;34m(\u001b[0m\u001b[0mindexer\u001b[0m\u001b[0;34m,\u001b[0m \u001b[0mfill_tuple\u001b[0m\u001b[0;34m=\u001b[0m\u001b[0;34m(\u001b[0m\u001b[0mfill_value\u001b[0m\u001b[0;34m,\u001b[0m\u001b[0;34m)\u001b[0m\u001b[0;34m)\u001b[0m\u001b[0;34m\u001b[0m\u001b[0;34m\u001b[0m\u001b[0m\n\u001b[0m\u001b[1;32m   1258\u001b[0m         \u001b[0;32melse\u001b[0m\u001b[0;34m:\u001b[0m\u001b[0;34m\u001b[0m\u001b[0;34m\u001b[0m\u001b[0m\n\u001b[1;32m   1259\u001b[0m             new_blocks = [\n",
      "\u001b[0;32m~/anaconda3/lib/python3.7/site-packages/pandas/core/internals/managers.py\u001b[0m in \u001b[0;36m_slice_take_blocks_ax0\u001b[0;34m(self, slice_or_indexer, fill_tuple)\u001b[0m\n\u001b[1;32m   1355\u001b[0m                             \u001b[0maxis\u001b[0m\u001b[0;34m=\u001b[0m\u001b[0;36m0\u001b[0m\u001b[0;34m,\u001b[0m\u001b[0;34m\u001b[0m\u001b[0;34m\u001b[0m\u001b[0m\n\u001b[1;32m   1356\u001b[0m                             \u001b[0mnew_mgr_locs\u001b[0m\u001b[0;34m=\u001b[0m\u001b[0mmgr_locs\u001b[0m\u001b[0;34m,\u001b[0m\u001b[0;34m\u001b[0m\u001b[0;34m\u001b[0m\u001b[0m\n\u001b[0;32m-> 1357\u001b[0;31m                             \u001b[0mfill_tuple\u001b[0m\u001b[0;34m=\u001b[0m\u001b[0;32mNone\u001b[0m\u001b[0;34m,\u001b[0m\u001b[0;34m\u001b[0m\u001b[0;34m\u001b[0m\u001b[0m\n\u001b[0m\u001b[1;32m   1358\u001b[0m                         )\n\u001b[1;32m   1359\u001b[0m                     )\n",
      "\u001b[0;32m~/anaconda3/lib/python3.7/site-packages/pandas/core/internals/blocks.py\u001b[0m in \u001b[0;36mtake_nd\u001b[0;34m(self, indexer, axis, new_mgr_locs, fill_tuple)\u001b[0m\n\u001b[1;32m   1312\u001b[0m \u001b[0;34m\u001b[0m\u001b[0m\n\u001b[1;32m   1313\u001b[0m         new_values = algos.take_nd(\n\u001b[0;32m-> 1314\u001b[0;31m             \u001b[0mvalues\u001b[0m\u001b[0;34m,\u001b[0m \u001b[0mindexer\u001b[0m\u001b[0;34m,\u001b[0m \u001b[0maxis\u001b[0m\u001b[0;34m=\u001b[0m\u001b[0maxis\u001b[0m\u001b[0;34m,\u001b[0m \u001b[0mallow_fill\u001b[0m\u001b[0;34m=\u001b[0m\u001b[0mallow_fill\u001b[0m\u001b[0;34m,\u001b[0m \u001b[0mfill_value\u001b[0m\u001b[0;34m=\u001b[0m\u001b[0mfill_value\u001b[0m\u001b[0;34m\u001b[0m\u001b[0;34m\u001b[0m\u001b[0m\n\u001b[0m\u001b[1;32m   1315\u001b[0m         )\n\u001b[1;32m   1316\u001b[0m \u001b[0;34m\u001b[0m\u001b[0m\n",
      "\u001b[0;32m~/anaconda3/lib/python3.7/site-packages/pandas/core/algorithms.py\u001b[0m in \u001b[0;36mtake_nd\u001b[0;34m(arr, indexer, axis, out, fill_value, mask_info, allow_fill)\u001b[0m\n\u001b[1;32m   1719\u001b[0m         \u001b[0marr\u001b[0m\u001b[0;34m.\u001b[0m\u001b[0mndim\u001b[0m\u001b[0;34m,\u001b[0m \u001b[0marr\u001b[0m\u001b[0;34m.\u001b[0m\u001b[0mdtype\u001b[0m\u001b[0;34m,\u001b[0m \u001b[0mout\u001b[0m\u001b[0;34m.\u001b[0m\u001b[0mdtype\u001b[0m\u001b[0;34m,\u001b[0m \u001b[0maxis\u001b[0m\u001b[0;34m=\u001b[0m\u001b[0maxis\u001b[0m\u001b[0;34m,\u001b[0m \u001b[0mmask_info\u001b[0m\u001b[0;34m=\u001b[0m\u001b[0mmask_info\u001b[0m\u001b[0;34m\u001b[0m\u001b[0;34m\u001b[0m\u001b[0m\n\u001b[1;32m   1720\u001b[0m     )\n\u001b[0;32m-> 1721\u001b[0;31m     \u001b[0mfunc\u001b[0m\u001b[0;34m(\u001b[0m\u001b[0marr\u001b[0m\u001b[0;34m,\u001b[0m \u001b[0mindexer\u001b[0m\u001b[0;34m,\u001b[0m \u001b[0mout\u001b[0m\u001b[0;34m,\u001b[0m \u001b[0mfill_value\u001b[0m\u001b[0;34m)\u001b[0m\u001b[0;34m\u001b[0m\u001b[0;34m\u001b[0m\u001b[0m\n\u001b[0m\u001b[1;32m   1722\u001b[0m \u001b[0;34m\u001b[0m\u001b[0m\n\u001b[1;32m   1723\u001b[0m     \u001b[0;32mif\u001b[0m \u001b[0mflip_order\u001b[0m\u001b[0;34m:\u001b[0m\u001b[0;34m\u001b[0m\u001b[0;34m\u001b[0m\u001b[0m\n",
      "\u001b[0;31mKeyboardInterrupt\u001b[0m: "
     ]
    }
   ],
   "source": [
    "for i in range(13):\n",
    "    x = time.time()\n",
    "    print('Iteration:',i)\n",
    "    training = mungemunge(training_from[i], training_to[i])\n",
    "    train1 = data_munge(training)\n",
    "    print(train1.groupby('Purchase').size())\n",
    "    train1.to_csv('final_data/train' + str(i) + '.csv', index = False, float_format='%f')\n",
    "    print('\\n')\n",
    "    final1 = target_variable('train' + str(i) + '.csv', target_from[i], target_to[i])\n",
    "    \n",
    "    print(time.time() - a)\n",
    "    print('Iteration Done')"
   ]
  },
  {
   "cell_type": "code",
   "execution_count": 13,
   "metadata": {
    "collapsed": true,
    "jupyter": {
     "outputs_hidden": true
    }
   },
   "outputs": [
    {
     "name": "stdout",
     "output_type": "stream",
     "text": [
      "Date Range 20180501 20181015\n",
      "# of Visitors 296530\n",
      "shape of training (401589, 10)\n",
      "input shape: (401589, 10)\n",
      "Splitting Json Done!! final shape: (401589, 56)\n",
      "Final Shape (401589, 56)\n",
      "# of Visitors 296530\n"
     ]
    },
    {
     "data": {
      "application/vnd.jupyter.widget-view+json": {
       "model_id": "1c96674c76324caeba249c07e1057177",
       "version_major": 2,
       "version_minor": 0
      },
      "text/plain": [
       "HBox(children=(IntProgress(value=0, description='Pandas Apply', max=296530, style=ProgressStyle(description_wi…"
      ]
     },
     "metadata": {},
     "output_type": "display_data"
    },
    {
     "name": "stdout",
     "output_type": "stream",
     "text": [
      "\n"
     ]
    },
    {
     "data": {
      "application/vnd.jupyter.widget-view+json": {
       "model_id": "6316f43792d6468eb20de9c3f169a64b",
       "version_major": 2,
       "version_minor": 0
      },
      "text/plain": [
       "HBox(children=(IntProgress(value=0, description='Pandas Apply', max=401589, style=ProgressStyle(description_wi…"
      ]
     },
     "metadata": {},
     "output_type": "display_data"
    },
    {
     "name": "stdout",
     "output_type": "stream",
     "text": [
      "\n"
     ]
    },
    {
     "data": {
      "application/vnd.jupyter.widget-view+json": {
       "model_id": "0d7c192b150845e18990bcca8637f7d8",
       "version_major": 2,
       "version_minor": 0
      },
      "text/plain": [
       "HBox(children=(IntProgress(value=0, description='Pandas Apply', max=401589, style=ProgressStyle(description_wi…"
      ]
     },
     "metadata": {},
     "output_type": "display_data"
    },
    {
     "name": "stdout",
     "output_type": "stream",
     "text": [
      "\n"
     ]
    },
    {
     "data": {
      "application/vnd.jupyter.widget-view+json": {
       "model_id": "0e6d6bd31a7b4ac6aeae6e65c832fc51",
       "version_major": 2,
       "version_minor": 0
      },
      "text/plain": [
       "HBox(children=(IntProgress(value=0, description='Pandas Apply', max=401589, style=ProgressStyle(description_wi…"
      ]
     },
     "metadata": {},
     "output_type": "display_data"
    },
    {
     "name": "stdout",
     "output_type": "stream",
     "text": [
      "\n"
     ]
    },
    {
     "data": {
      "application/vnd.jupyter.widget-view+json": {
       "model_id": "a6125a16b2b84d61bfa00702d56592b5",
       "version_major": 2,
       "version_minor": 0
      },
      "text/plain": [
       "HBox(children=(IntProgress(value=0, description='Pandas Apply', max=401589, style=ProgressStyle(description_wi…"
      ]
     },
     "metadata": {},
     "output_type": "display_data"
    },
    {
     "name": "stdout",
     "output_type": "stream",
     "text": [
      "\n"
     ]
    },
    {
     "data": {
      "application/vnd.jupyter.widget-view+json": {
       "model_id": "8ede99882d6446f89382ffa175052f62",
       "version_major": 2,
       "version_minor": 0
      },
      "text/plain": [
       "HBox(children=(IntProgress(value=0, description='Pandas Apply', max=401589, style=ProgressStyle(description_wi…"
      ]
     },
     "metadata": {},
     "output_type": "display_data"
    },
    {
     "name": "stdout",
     "output_type": "stream",
     "text": [
      "\n"
     ]
    },
    {
     "data": {
      "application/vnd.jupyter.widget-view+json": {
       "model_id": "9ceb68edf8fc4a9fbe63b5051dece579",
       "version_major": 2,
       "version_minor": 0
      },
      "text/plain": [
       "HBox(children=(IntProgress(value=0, description='Pandas Apply', max=401589, style=ProgressStyle(description_wi…"
      ]
     },
     "metadata": {},
     "output_type": "display_data"
    },
    {
     "name": "stdout",
     "output_type": "stream",
     "text": [
      "\n",
      "data munge done!!\n",
      "Purchase\n",
      "0    292374\n",
      "1      4156\n",
      "dtype: int64\n"
     ]
    }
   ],
   "source": [
    "training = mungemunge(20180501, 20181016)\n",
    "train1 = data_munge(training)\n",
    "print(train1.groupby('Purchase').size())\n",
    "train1.to_csv('final_data/train.csv', index = False)"
   ]
  },
  {
   "cell_type": "code",
   "execution_count": 92,
   "metadata": {
    "collapsed": true,
    "jupyter": {
     "outputs_hidden": true
    }
   },
   "outputs": [
    {
     "name": "stdout",
     "output_type": "stream",
     "text": [
      "min date 20170701\n",
      "max date 20171215\n",
      "# of Visitors 384946\n",
      "shape of training (496743, 10)\n",
      "Load Dataframe to expand JSON\n",
      "input shape: (496743, 10)\n",
      "device\n",
      "geoNetwork\n",
      "totals\n",
      "trafficSource\n",
      "51.910603046417236\n",
      "final shape: (496743, 56)\n",
      "Final Shape (496743, 56)\n",
      "# of Visitors 384946\n",
      "done!!!\n"
     ]
    },
    {
     "data": {
      "application/vnd.jupyter.widget-view+json": {
       "model_id": "8589ceab72c0481ea670d12b8dfbe8d4",
       "version_major": 2,
       "version_minor": 0
      },
      "text/plain": [
       "HBox(children=(IntProgress(value=0, description='Pandas Apply', max=384946, style=ProgressStyle(description_wi…"
      ]
     },
     "metadata": {},
     "output_type": "display_data"
    },
    {
     "name": "stdout",
     "output_type": "stream",
     "text": [
      "\n"
     ]
    },
    {
     "data": {
      "application/vnd.jupyter.widget-view+json": {
       "model_id": "43889689e2044812a3a1eab2877f1415",
       "version_major": 2,
       "version_minor": 0
      },
      "text/plain": [
       "HBox(children=(IntProgress(value=0, description='Pandas Apply', max=496743, style=ProgressStyle(description_wi…"
      ]
     },
     "metadata": {},
     "output_type": "display_data"
    },
    {
     "name": "stdout",
     "output_type": "stream",
     "text": [
      "\n"
     ]
    },
    {
     "data": {
      "application/vnd.jupyter.widget-view+json": {
       "model_id": "e71384eae6844f41bac33eacdaddd505",
       "version_major": 2,
       "version_minor": 0
      },
      "text/plain": [
       "HBox(children=(IntProgress(value=0, description='Pandas Apply', max=496743, style=ProgressStyle(description_wi…"
      ]
     },
     "metadata": {},
     "output_type": "display_data"
    },
    {
     "name": "stdout",
     "output_type": "stream",
     "text": [
      "\n"
     ]
    },
    {
     "data": {
      "application/vnd.jupyter.widget-view+json": {
       "model_id": "9534d3dfb10d4abf950773c2a5569984",
       "version_major": 2,
       "version_minor": 0
      },
      "text/plain": [
       "HBox(children=(IntProgress(value=0, description='Pandas Apply', max=496743, style=ProgressStyle(description_wi…"
      ]
     },
     "metadata": {},
     "output_type": "display_data"
    },
    {
     "name": "stdout",
     "output_type": "stream",
     "text": [
      "\n"
     ]
    },
    {
     "data": {
      "application/vnd.jupyter.widget-view+json": {
       "model_id": "9cb23727982e431d86651414f7c6bd50",
       "version_major": 2,
       "version_minor": 0
      },
      "text/plain": [
       "HBox(children=(IntProgress(value=0, description='Pandas Apply', max=496743, style=ProgressStyle(description_wi…"
      ]
     },
     "metadata": {},
     "output_type": "display_data"
    },
    {
     "name": "stdout",
     "output_type": "stream",
     "text": [
      "\n"
     ]
    },
    {
     "data": {
      "application/vnd.jupyter.widget-view+json": {
       "model_id": "c514d596bf9e4478b3e8a326c9974cc4",
       "version_major": 2,
       "version_minor": 0
      },
      "text/plain": [
       "HBox(children=(IntProgress(value=0, description='Pandas Apply', max=496743, style=ProgressStyle(description_wi…"
      ]
     },
     "metadata": {},
     "output_type": "display_data"
    },
    {
     "name": "stdout",
     "output_type": "stream",
     "text": [
      "\n"
     ]
    },
    {
     "data": {
      "application/vnd.jupyter.widget-view+json": {
       "model_id": "d6fda06c7b944725a50d920366acd015",
       "version_major": 2,
       "version_minor": 0
      },
      "text/plain": [
       "HBox(children=(IntProgress(value=0, description='Pandas Apply', max=496743, style=ProgressStyle(description_wi…"
      ]
     },
     "metadata": {},
     "output_type": "display_data"
    },
    {
     "name": "stdout",
     "output_type": "stream",
     "text": [
      "\n",
      "27.152862071990967\n",
      "Purchase\n",
      "0    394672\n",
      "1      1138\n",
      "dtype: int64\n"
     ]
    }
   ],
   "source": [
    "training = mungemunge(20170701, 20171215)\n",
    "train1 = data_munge(training)\n",
    "print(train1.groupby('Purchase').size())\n",
    "train1.to_csv('final_data/train3.csv', index = False)"
   ]
  },
  {
   "cell_type": "code",
   "execution_count": 29,
   "metadata": {},
   "outputs": [
    {
     "name": "stdout",
     "output_type": "stream",
     "text": [
      "Date Range 20180501 20181015\n",
      "# of Visitors 296530\n",
      "shape of training (401589, 10)\n",
      "input shape: (401589, 10)\n",
      "Splitting Json Done!! final shape: (401589, 56)\n",
      "Final Shape (401589, 56)\n",
      "# of Visitors 296530\n"
     ]
    },
    {
     "data": {
      "application/vnd.jupyter.widget-view+json": {
       "model_id": "e8d65bca2e4f40128c50473e2a7d1289",
       "version_major": 2,
       "version_minor": 0
      },
      "text/plain": [
       "HBox(children=(IntProgress(value=0, description='Pandas Apply', max=296530, style=ProgressStyle(description_wi…"
      ]
     },
     "metadata": {},
     "output_type": "display_data"
    },
    {
     "name": "stdout",
     "output_type": "stream",
     "text": [
      "\n"
     ]
    },
    {
     "data": {
      "application/vnd.jupyter.widget-view+json": {
       "model_id": "4ef570bb6ec647b3b5c0e0d03779180d",
       "version_major": 2,
       "version_minor": 0
      },
      "text/plain": [
       "HBox(children=(IntProgress(value=0, description='Pandas Apply', max=401589, style=ProgressStyle(description_wi…"
      ]
     },
     "metadata": {},
     "output_type": "display_data"
    },
    {
     "name": "stdout",
     "output_type": "stream",
     "text": [
      "\n"
     ]
    },
    {
     "data": {
      "application/vnd.jupyter.widget-view+json": {
       "model_id": "53efd68f54544ac8863d7b883669447b",
       "version_major": 2,
       "version_minor": 0
      },
      "text/plain": [
       "HBox(children=(IntProgress(value=0, description='Pandas Apply', max=401589, style=ProgressStyle(description_wi…"
      ]
     },
     "metadata": {},
     "output_type": "display_data"
    },
    {
     "name": "stdout",
     "output_type": "stream",
     "text": [
      "\n"
     ]
    },
    {
     "data": {
      "application/vnd.jupyter.widget-view+json": {
       "model_id": "759bc3a37fbb4c9286e165ded3c0b0eb",
       "version_major": 2,
       "version_minor": 0
      },
      "text/plain": [
       "HBox(children=(IntProgress(value=0, description='Pandas Apply', max=401589, style=ProgressStyle(description_wi…"
      ]
     },
     "metadata": {},
     "output_type": "display_data"
    },
    {
     "name": "stdout",
     "output_type": "stream",
     "text": [
      "\n"
     ]
    },
    {
     "data": {
      "application/vnd.jupyter.widget-view+json": {
       "model_id": "f7104a2cd3b44503b130a6583bcc0933",
       "version_major": 2,
       "version_minor": 0
      },
      "text/plain": [
       "HBox(children=(IntProgress(value=0, description='Pandas Apply', max=401589, style=ProgressStyle(description_wi…"
      ]
     },
     "metadata": {},
     "output_type": "display_data"
    },
    {
     "name": "stdout",
     "output_type": "stream",
     "text": [
      "\n"
     ]
    },
    {
     "data": {
      "application/vnd.jupyter.widget-view+json": {
       "model_id": "503b3c64e6a34da7b61a737c2be2e95b",
       "version_major": 2,
       "version_minor": 0
      },
      "text/plain": [
       "HBox(children=(IntProgress(value=0, description='Pandas Apply', max=401589, style=ProgressStyle(description_wi…"
      ]
     },
     "metadata": {},
     "output_type": "display_data"
    },
    {
     "name": "stdout",
     "output_type": "stream",
     "text": [
      "\n"
     ]
    },
    {
     "data": {
      "application/vnd.jupyter.widget-view+json": {
       "model_id": "7d9c7c879fae49b396dce2c527728da6",
       "version_major": 2,
       "version_minor": 0
      },
      "text/plain": [
       "HBox(children=(IntProgress(value=0, description='Pandas Apply', max=401589, style=ProgressStyle(description_wi…"
      ]
     },
     "metadata": {},
     "output_type": "display_data"
    },
    {
     "name": "stdout",
     "output_type": "stream",
     "text": [
      "\n",
      "data munge done!!\n",
      "Purchase\n",
      "0    292374\n",
      "1      4156\n",
      "dtype: int64\n"
     ]
    }
   ],
   "source": [
    "training = mungemunge(20180501, 20181015)\n",
    "train1 = data_munge(training)\n",
    "print(train1.groupby('Purchase').size())\n",
    "train1.to_csv('final_data/test_new.csv', index = False)"
   ]
  },
  {
   "cell_type": "code",
   "execution_count": 60,
   "metadata": {
    "collapsed": true,
    "jupyter": {
     "outputs_hidden": true
    }
   },
   "outputs": [
    {
     "name": "stdout",
     "output_type": "stream",
     "text": [
      "min date 20180501\n",
      "max date 20181015\n",
      "# of Visitors 296530\n",
      "shape of training (401589, 10)\n",
      "Load Dataframe to expand JSON\n",
      "input shape: (401589, 10)\n",
      "device\n",
      "geoNetwork\n",
      "totals\n",
      "trafficSource\n",
      "47.28747224807739\n",
      "final shape: (401589, 56)\n",
      "Final Shape (401589, 56)\n",
      "# of Visitors 296530\n",
      "done!!!\n"
     ]
    },
    {
     "data": {
      "application/vnd.jupyter.widget-view+json": {
       "model_id": "0ff5772cf48044c98527a352a06b945e",
       "version_major": 2,
       "version_minor": 0
      },
      "text/plain": [
       "HBox(children=(IntProgress(value=0, description='Pandas Apply', max=296530, style=ProgressStyle(description_wi…"
      ]
     },
     "metadata": {},
     "output_type": "display_data"
    },
    {
     "name": "stdout",
     "output_type": "stream",
     "text": [
      "\n"
     ]
    },
    {
     "data": {
      "application/vnd.jupyter.widget-view+json": {
       "model_id": "2c284c0d0f6542068d76189a0d3ad010",
       "version_major": 2,
       "version_minor": 0
      },
      "text/plain": [
       "HBox(children=(IntProgress(value=0, description='Pandas Apply', max=401589, style=ProgressStyle(description_wi…"
      ]
     },
     "metadata": {},
     "output_type": "display_data"
    },
    {
     "name": "stdout",
     "output_type": "stream",
     "text": [
      "\n"
     ]
    },
    {
     "data": {
      "application/vnd.jupyter.widget-view+json": {
       "model_id": "d3eaa0edd91449a89acc60726af51ae7",
       "version_major": 2,
       "version_minor": 0
      },
      "text/plain": [
       "HBox(children=(IntProgress(value=0, description='Pandas Apply', max=401589, style=ProgressStyle(description_wi…"
      ]
     },
     "metadata": {},
     "output_type": "display_data"
    },
    {
     "name": "stdout",
     "output_type": "stream",
     "text": [
      "\n"
     ]
    },
    {
     "data": {
      "application/vnd.jupyter.widget-view+json": {
       "model_id": "3ff9af6e9b9c43fc9b97c65db972c1ce",
       "version_major": 2,
       "version_minor": 0
      },
      "text/plain": [
       "HBox(children=(IntProgress(value=0, description='Pandas Apply', max=401589, style=ProgressStyle(description_wi…"
      ]
     },
     "metadata": {},
     "output_type": "display_data"
    },
    {
     "name": "stdout",
     "output_type": "stream",
     "text": [
      "\n"
     ]
    },
    {
     "data": {
      "application/vnd.jupyter.widget-view+json": {
       "model_id": "f29f95b8ec0146f4b1372c9663d5a2e9",
       "version_major": 2,
       "version_minor": 0
      },
      "text/plain": [
       "HBox(children=(IntProgress(value=0, description='Pandas Apply', max=401589, style=ProgressStyle(description_wi…"
      ]
     },
     "metadata": {},
     "output_type": "display_data"
    },
    {
     "name": "stdout",
     "output_type": "stream",
     "text": [
      "\n"
     ]
    },
    {
     "data": {
      "application/vnd.jupyter.widget-view+json": {
       "model_id": "9d99a7b8f1f945c09397e6022702c164",
       "version_major": 2,
       "version_minor": 0
      },
      "text/plain": [
       "HBox(children=(IntProgress(value=0, description='Pandas Apply', max=401589, style=ProgressStyle(description_wi…"
      ]
     },
     "metadata": {},
     "output_type": "display_data"
    },
    {
     "name": "stdout",
     "output_type": "stream",
     "text": [
      "\n"
     ]
    },
    {
     "data": {
      "application/vnd.jupyter.widget-view+json": {
       "model_id": "38a36587759047ea959b8894ae29ac7a",
       "version_major": 2,
       "version_minor": 0
      },
      "text/plain": [
       "HBox(children=(IntProgress(value=0, description='Pandas Apply', max=401589, style=ProgressStyle(description_wi…"
      ]
     },
     "metadata": {},
     "output_type": "display_data"
    },
    {
     "name": "stdout",
     "output_type": "stream",
     "text": [
      "\n",
      "(296530, 3)\n",
      "(296530, 4)\n",
      "(296530, 12)\n",
      "(296530, 18)\n",
      "(296530, 34)\n",
      "(296530, 48)\n",
      "Purchase\n",
      "0    292374\n",
      "1      4156\n",
      "dtype: int64\n"
     ]
    }
   ],
   "source": [
    "training = mungemunge(20180501, 20181015)\n",
    "train1 = data_munge(training)\n",
    "print(train1.groupby('Purchase').size())\n",
    "train1.to_csv('final_data/test.csv', index = False)"
   ]
  },
  {
   "cell_type": "code",
   "execution_count": 55,
   "metadata": {},
   "outputs": [],
   "source": []
  },
  {
   "cell_type": "code",
   "execution_count": 23,
   "metadata": {},
   "outputs": [],
   "source": [
    "def target_variable(filename, from_date, to_date):    \n",
    "    df = test[(test['date']>=from_date) & (test['date']<=to_date)]\n",
    "    print(\"min date\",min(df['date']))\n",
    "    print(\"max date\",max(df['date']))\n",
    "    \n",
    "    df = load_df(df)\n",
    "    df_target = df[['fullVisitorId', 'totals.transactionRevenue']]\n",
    "    df_target['totals.transactionRevenue'] = df_target['totals.transactionRevenue'].astype(float)\n",
    "    df_target = df_target.fillna(0)\n",
    "    df_target = df_target.groupby('fullVisitorId').agg({'totals.transactionRevenue':'sum'})\n",
    "    df_target['LogRevenue'] = np.log(df_target['totals.transactionRevenue'].astype(float) + 1)\n",
    "    df_target['Purchase'] = df_target['totals.transactionRevenue'].swifter.apply(flag)\n",
    "    df_target = df_target[['LogRevenue', 'Purchase']].reset_index()\n",
    "    df_target.columns = ['fullVisitorId', 'LogRevenue_y', 'Purchase_y']\n",
    "    \n",
    "    \n",
    "    current_df = pd.read_csv('final_data/'+filename, sep = ',')\n",
    "    print()\n",
    "    final = current_df.merge(df_target, on = 'fullVisitorId', how = 'left')\n",
    "    final['LogRevenue_y'] = np.where(final['LogRevenue_y'].isnull(), 0, final['LogRevenue_y'])\n",
    "    final['Purchase_y'] = np.where(final['Purchase_y'].isnull(), 0, 1)\n",
    "    print('writing final file!')\n",
    "    final.to_csv('final/'+filename, sep = ',', index = False)\n",
    "    print('done')\n",
    "    return final"
   ]
  },
  {
   "cell_type": "code",
   "execution_count": 133,
   "metadata": {
    "collapsed": true,
    "jupyter": {
     "outputs_hidden": true
    }
   },
   "outputs": [
    {
     "name": "stdout",
     "output_type": "stream",
     "text": [
      "min date 20170301\n",
      "max date 20170430\n",
      "input shape: (137057, 10)\n",
      "device\n",
      "geoNetwork\n",
      "totals\n",
      "trafficSource\n",
      "12.51340913772583\n",
      "final shape: (137057, 55)\n"
     ]
    },
    {
     "data": {
      "application/vnd.jupyter.widget-view+json": {
       "model_id": "e92a8fefd95641748776ebfd04f16547",
       "version_major": 2,
       "version_minor": 0
      },
      "text/plain": [
       "HBox(children=(IntProgress(value=0, description='Pandas Apply', max=111299, style=ProgressStyle(description_wi…"
      ]
     },
     "metadata": {},
     "output_type": "display_data"
    },
    {
     "name": "stdout",
     "output_type": "stream",
     "text": [
      "\n",
      "writing final file!\n",
      "done\n",
      "min date 20170816\n",
      "max date 20171015\n",
      "input shape: (184346, 10)\n",
      "device\n",
      "geoNetwork\n",
      "totals\n",
      "trafficSource\n",
      "19.11940288543701\n",
      "final shape: (184346, 56)\n"
     ]
    },
    {
     "data": {
      "application/vnd.jupyter.widget-view+json": {
       "model_id": "550be76b14434eb89e04ff937d1d63f7",
       "version_major": 2,
       "version_minor": 0
      },
      "text/plain": [
       "HBox(children=(IntProgress(value=0, description='Pandas Apply', max=145271, style=ProgressStyle(description_wi…"
      ]
     },
     "metadata": {},
     "output_type": "display_data"
    },
    {
     "name": "stdout",
     "output_type": "stream",
     "text": [
      "\n",
      "writing final file!\n",
      "done\n",
      "min date 20180201\n",
      "max date 20180331\n",
      "input shape: (177093, 10)\n",
      "device\n",
      "geoNetwork\n",
      "totals\n",
      "trafficSource\n",
      "18.600932359695435\n",
      "final shape: (177093, 56)\n"
     ]
    },
    {
     "data": {
      "application/vnd.jupyter.widget-view+json": {
       "model_id": "dea4705317084ab5a46cc9468f377433",
       "version_major": 2,
       "version_minor": 0
      },
      "text/plain": [
       "HBox(children=(IntProgress(value=0, description='Pandas Apply', max=140808, style=ProgressStyle(description_wi…"
      ]
     },
     "metadata": {},
     "output_type": "display_data"
    },
    {
     "name": "stdout",
     "output_type": "stream",
     "text": [
      "\n",
      "writing final file!\n",
      "done\n"
     ]
    },
    {
     "ename": "ValueError",
     "evalue": "min() arg is an empty sequence",
     "output_type": "error",
     "traceback": [
      "\u001b[0;31m---------------------------------------------------------------------------\u001b[0m",
      "\u001b[0;31mValueError\u001b[0m                                Traceback (most recent call last)",
      "\u001b[0;32m<ipython-input-133-85c0988382cf>\u001b[0m in \u001b[0;36m<module>\u001b[0;34m\u001b[0m\n\u001b[1;32m      2\u001b[0m \u001b[0mfinal2\u001b[0m \u001b[0;34m=\u001b[0m \u001b[0mtarget_variable\u001b[0m\u001b[0;34m(\u001b[0m\u001b[0;34m'train2.csv'\u001b[0m\u001b[0;34m,\u001b[0m \u001b[0;36m20170816\u001b[0m\u001b[0;34m,\u001b[0m \u001b[0;36m20171015\u001b[0m\u001b[0;34m)\u001b[0m\u001b[0;34m\u001b[0m\u001b[0;34m\u001b[0m\u001b[0m\n\u001b[1;32m      3\u001b[0m \u001b[0mfinal3\u001b[0m \u001b[0;34m=\u001b[0m \u001b[0mtarget_variable\u001b[0m\u001b[0;34m(\u001b[0m\u001b[0;34m'train3.csv'\u001b[0m\u001b[0;34m,\u001b[0m \u001b[0;36m20180201\u001b[0m\u001b[0;34m,\u001b[0m \u001b[0;36m20180331\u001b[0m\u001b[0;34m)\u001b[0m\u001b[0;34m\u001b[0m\u001b[0;34m\u001b[0m\u001b[0m\n\u001b[0;32m----> 4\u001b[0;31m \u001b[0mfinal4\u001b[0m \u001b[0;34m=\u001b[0m \u001b[0mtarget_variable\u001b[0m\u001b[0;34m(\u001b[0m\u001b[0;34m'train4.csv'\u001b[0m\u001b[0;34m,\u001b[0m \u001b[0;36m20180616\u001b[0m\u001b[0;34m,\u001b[0m \u001b[0;36m20180815\u001b[0m\u001b[0;34m)\u001b[0m\u001b[0;34m\u001b[0m\u001b[0;34m\u001b[0m\u001b[0m\n\u001b[0m",
      "\u001b[0;32m<ipython-input-132-10296ff842ef>\u001b[0m in \u001b[0;36mtarget_variable\u001b[0;34m(filename, from_date, to_date)\u001b[0m\n\u001b[1;32m      1\u001b[0m \u001b[0;32mdef\u001b[0m \u001b[0mtarget_variable\u001b[0m\u001b[0;34m(\u001b[0m\u001b[0mfilename\u001b[0m\u001b[0;34m,\u001b[0m \u001b[0mfrom_date\u001b[0m\u001b[0;34m,\u001b[0m \u001b[0mto_date\u001b[0m\u001b[0;34m)\u001b[0m\u001b[0;34m:\u001b[0m\u001b[0;34m\u001b[0m\u001b[0;34m\u001b[0m\u001b[0m\n\u001b[1;32m      2\u001b[0m     \u001b[0mdf\u001b[0m \u001b[0;34m=\u001b[0m \u001b[0mdata\u001b[0m\u001b[0;34m[\u001b[0m\u001b[0;34m(\u001b[0m\u001b[0mdata\u001b[0m\u001b[0;34m[\u001b[0m\u001b[0;34m'date'\u001b[0m\u001b[0;34m]\u001b[0m\u001b[0;34m>=\u001b[0m\u001b[0mfrom_date\u001b[0m\u001b[0;34m)\u001b[0m \u001b[0;34m&\u001b[0m \u001b[0;34m(\u001b[0m\u001b[0mdata\u001b[0m\u001b[0;34m[\u001b[0m\u001b[0;34m'date'\u001b[0m\u001b[0;34m]\u001b[0m\u001b[0;34m<=\u001b[0m\u001b[0mto_date\u001b[0m\u001b[0;34m)\u001b[0m\u001b[0;34m]\u001b[0m\u001b[0;34m\u001b[0m\u001b[0;34m\u001b[0m\u001b[0m\n\u001b[0;32m----> 3\u001b[0;31m     \u001b[0mprint\u001b[0m\u001b[0;34m(\u001b[0m\u001b[0;34m\"min date\"\u001b[0m\u001b[0;34m,\u001b[0m\u001b[0mmin\u001b[0m\u001b[0;34m(\u001b[0m\u001b[0mdf\u001b[0m\u001b[0;34m[\u001b[0m\u001b[0;34m'date'\u001b[0m\u001b[0;34m]\u001b[0m\u001b[0;34m)\u001b[0m\u001b[0;34m)\u001b[0m\u001b[0;34m\u001b[0m\u001b[0;34m\u001b[0m\u001b[0m\n\u001b[0m\u001b[1;32m      4\u001b[0m     \u001b[0mprint\u001b[0m\u001b[0;34m(\u001b[0m\u001b[0;34m\"max date\"\u001b[0m\u001b[0;34m,\u001b[0m\u001b[0mmax\u001b[0m\u001b[0;34m(\u001b[0m\u001b[0mdf\u001b[0m\u001b[0;34m[\u001b[0m\u001b[0;34m'date'\u001b[0m\u001b[0;34m]\u001b[0m\u001b[0;34m)\u001b[0m\u001b[0;34m)\u001b[0m\u001b[0;34m\u001b[0m\u001b[0;34m\u001b[0m\u001b[0m\n\u001b[1;32m      5\u001b[0m \u001b[0;34m\u001b[0m\u001b[0m\n",
      "\u001b[0;31mValueError\u001b[0m: min() arg is an empty sequence"
     ]
    }
   ],
   "source": [
    "final1 = target_variable('train1.csv', 20170301, 20170431)\n",
    "final2 = target_variable('train2.csv', 20170816, 20171015)\n",
    "final3 = target_variable('train3.csv', 20180201, 20180331)\n",
    "final4 = target_variable('train4.csv', 20180616, 20180815)"
   ]
  },
  {
   "cell_type": "code",
   "execution_count": 25,
   "metadata": {
    "collapsed": true,
    "jupyter": {
     "outputs_hidden": true
    }
   },
   "outputs": [
    {
     "name": "stdout",
     "output_type": "stream",
     "text": [
      "min date 20180616\n",
      "max date 20180815\n",
      "input shape: (137420, 10)\n",
      "device\n",
      "geoNetwork\n",
      "totals\n",
      "trafficSource\n",
      "13.815101623535156\n",
      "final shape: (137420, 56)\n"
     ]
    },
    {
     "data": {
      "application/vnd.jupyter.widget-view+json": {
       "model_id": "3c88a8ddcf1f4cef9c864a5b5be063dd",
       "version_major": 2,
       "version_minor": 0
      },
      "text/plain": [
       "HBox(children=(IntProgress(value=0, description='Pandas Apply', max=104375, style=ProgressStyle(description_wi…"
      ]
     },
     "metadata": {},
     "output_type": "display_data"
    },
    {
     "name": "stdout",
     "output_type": "stream",
     "text": [
      "\n",
      "\n",
      "writing final file!\n",
      "done\n"
     ]
    }
   ],
   "source": [
    "final4 = target_variable('train4.csv', 20180616, 20180815)"
   ]
  },
  {
   "cell_type": "code",
   "execution_count": 113,
   "metadata": {},
   "outputs": [],
   "source": [
    "current_df = pd.read_csv('final/train1.csv', sep = ',')"
   ]
  },
  {
   "cell_type": "code",
   "execution_count": 115,
   "metadata": {},
   "outputs": [
    {
     "name": "stdout",
     "output_type": "stream",
     "text": [
      "(377186, 50)\n"
     ]
    },
    {
     "data": {
      "text/plain": [
       "LogRevenue_y    0.0\n",
       "Purchase_y      0.0\n",
       "dtype: float64"
      ]
     },
     "execution_count": 115,
     "metadata": {},
     "output_type": "execute_result"
    }
   ],
   "source": [
    "print(current_df.shape)\n",
    "current_df[['LogRevenue_y','Purchase_y']].sum(axis = 0)"
   ]
  },
  {
   "cell_type": "code",
   "execution_count": 117,
   "metadata": {},
   "outputs": [
    {
     "data": {
      "text/html": [
       "<div>\n",
       "<style scoped>\n",
       "    .dataframe tbody tr th:only-of-type {\n",
       "        vertical-align: middle;\n",
       "    }\n",
       "\n",
       "    .dataframe tbody tr th {\n",
       "        vertical-align: top;\n",
       "    }\n",
       "\n",
       "    .dataframe thead th {\n",
       "        text-align: right;\n",
       "    }\n",
       "</style>\n",
       "<table border=\"1\" class=\"dataframe\">\n",
       "  <thead>\n",
       "    <tr style=\"text-align: right;\">\n",
       "      <th></th>\n",
       "      <th>LogRevenue_y</th>\n",
       "      <th>Purchase_y</th>\n",
       "    </tr>\n",
       "  </thead>\n",
       "  <tbody>\n",
       "  </tbody>\n",
       "</table>\n",
       "</div>"
      ],
      "text/plain": [
       "Empty DataFrame\n",
       "Columns: [LogRevenue_y, Purchase_y]\n",
       "Index: []"
      ]
     },
     "execution_count": 117,
     "metadata": {},
     "output_type": "execute_result"
    }
   ],
   "source": [
    "a = current_df[['LogRevenue_y','Purchase_y']]\n",
    "a[a['Purchase_y'] == 1]"
   ]
  },
  {
   "cell_type": "code",
   "execution_count": 61,
   "metadata": {},
   "outputs": [
    {
     "data": {
      "text/plain": [
       "(296530, 48)"
      ]
     },
     "execution_count": 61,
     "metadata": {},
     "output_type": "execute_result"
    }
   ],
   "source": [
    "t = pd.read_csv('final_data/test.csv')\n",
    "t.shape"
   ]
  },
  {
   "cell_type": "code",
   "execution_count": 62,
   "metadata": {},
   "outputs": [
    {
     "data": {
      "text/html": [
       "<div>\n",
       "<style scoped>\n",
       "    .dataframe tbody tr th:only-of-type {\n",
       "        vertical-align: middle;\n",
       "    }\n",
       "\n",
       "    .dataframe tbody tr th {\n",
       "        vertical-align: top;\n",
       "    }\n",
       "\n",
       "    .dataframe thead th {\n",
       "        text-align: right;\n",
       "    }\n",
       "</style>\n",
       "<table border=\"1\" class=\"dataframe\">\n",
       "  <thead>\n",
       "    <tr style=\"text-align: right;\">\n",
       "      <th></th>\n",
       "      <th>fullVisitorId</th>\n",
       "      <th>LogRevenue</th>\n",
       "      <th>Purchase</th>\n",
       "      <th>visits</th>\n",
       "      <th>(Other)</th>\n",
       "      <th>Affiliates</th>\n",
       "      <th>Direct</th>\n",
       "      <th>Display</th>\n",
       "      <th>Organic Search</th>\n",
       "      <th>Paid Search</th>\n",
       "      <th>...</th>\n",
       "      <th>trafSrc_isTrueDir_isNULL</th>\n",
       "      <th>trafSrc_isTrueDir_True</th>\n",
       "      <th>trafSrc_kw_others</th>\n",
       "      <th>trafSrc_kw_isNULL</th>\n",
       "      <th>trafSrc_medium_org</th>\n",
       "      <th>trafSrc_medium_ref</th>\n",
       "      <th>trafSrc_medium_isNULL</th>\n",
       "      <th>trafSrc_medium_cpc</th>\n",
       "      <th>trafSrc_medium_aff</th>\n",
       "      <th>trafSrc_medium_cpm</th>\n",
       "    </tr>\n",
       "  </thead>\n",
       "  <tbody>\n",
       "    <tr>\n",
       "      <td>13</td>\n",
       "      <td>450284137157873</td>\n",
       "      <td>0.0</td>\n",
       "      <td>0</td>\n",
       "      <td>5</td>\n",
       "      <td>0</td>\n",
       "      <td>0</td>\n",
       "      <td>1</td>\n",
       "      <td>0</td>\n",
       "      <td>2</td>\n",
       "      <td>0</td>\n",
       "      <td>...</td>\n",
       "      <td>2</td>\n",
       "      <td>0</td>\n",
       "      <td>2</td>\n",
       "      <td>0</td>\n",
       "      <td>2</td>\n",
       "      <td>2</td>\n",
       "      <td>1</td>\n",
       "      <td>0</td>\n",
       "      <td>0</td>\n",
       "      <td>0</td>\n",
       "    </tr>\n",
       "  </tbody>\n",
       "</table>\n",
       "<p>1 rows × 48 columns</p>\n",
       "</div>"
      ],
      "text/plain": [
       "      fullVisitorId  LogRevenue  Purchase  visits  (Other)  Affiliates  \\\n",
       "13  450284137157873         0.0         0       5        0           0   \n",
       "\n",
       "    Direct  Display  Organic Search  Paid Search  ...  \\\n",
       "13       1        0               2            0  ...   \n",
       "\n",
       "    trafSrc_isTrueDir_isNULL  trafSrc_isTrueDir_True  trafSrc_kw_others  \\\n",
       "13                         2                       0                  2   \n",
       "\n",
       "    trafSrc_kw_isNULL  trafSrc_medium_org  trafSrc_medium_ref  \\\n",
       "13                  0                   2                   2   \n",
       "\n",
       "    trafSrc_medium_isNULL  trafSrc_medium_cpc  trafSrc_medium_aff  \\\n",
       "13                      1                   0                   0   \n",
       "\n",
       "    trafSrc_medium_cpm  \n",
       "13                   0  \n",
       "\n",
       "[1 rows x 48 columns]"
      ]
     },
     "execution_count": 62,
     "metadata": {},
     "output_type": "execute_result"
    }
   ],
   "source": [
    "t[t['fullVisitorId'] == 450284137157873]"
   ]
  },
  {
   "cell_type": "code",
   "execution_count": 63,
   "metadata": {},
   "outputs": [
    {
     "data": {
      "text/html": [
       "<div>\n",
       "<style scoped>\n",
       "    .dataframe tbody tr th:only-of-type {\n",
       "        vertical-align: middle;\n",
       "    }\n",
       "\n",
       "    .dataframe tbody tr th {\n",
       "        vertical-align: top;\n",
       "    }\n",
       "\n",
       "    .dataframe thead th {\n",
       "        text-align: right;\n",
       "    }\n",
       "</style>\n",
       "<table border=\"1\" class=\"dataframe\">\n",
       "  <thead>\n",
       "    <tr style=\"text-align: right;\">\n",
       "      <th></th>\n",
       "      <th>fullVisitorId</th>\n",
       "      <th>LogRevenue</th>\n",
       "      <th>Purchase</th>\n",
       "      <th>visits</th>\n",
       "      <th>(Other)</th>\n",
       "      <th>Affiliates</th>\n",
       "      <th>Direct</th>\n",
       "      <th>Display</th>\n",
       "      <th>Organic Search</th>\n",
       "      <th>Paid Search</th>\n",
       "      <th>...</th>\n",
       "      <th>trafSrc_isTrueDir_isNULL</th>\n",
       "      <th>trafSrc_isTrueDir_True</th>\n",
       "      <th>trafSrc_kw_others</th>\n",
       "      <th>trafSrc_kw_isNULL</th>\n",
       "      <th>trafSrc_medium_org</th>\n",
       "      <th>trafSrc_medium_ref</th>\n",
       "      <th>trafSrc_medium_isNULL</th>\n",
       "      <th>trafSrc_medium_cpc</th>\n",
       "      <th>trafSrc_medium_aff</th>\n",
       "      <th>trafSrc_medium_cpm</th>\n",
       "    </tr>\n",
       "  </thead>\n",
       "  <tbody>\n",
       "    <tr>\n",
       "      <td>0</td>\n",
       "      <td>18966949534117</td>\n",
       "      <td>0.0</td>\n",
       "      <td>0</td>\n",
       "      <td>1</td>\n",
       "      <td>0</td>\n",
       "      <td>0</td>\n",
       "      <td>0</td>\n",
       "      <td>0</td>\n",
       "      <td>1</td>\n",
       "      <td>0</td>\n",
       "      <td>...</td>\n",
       "      <td>1</td>\n",
       "      <td>0</td>\n",
       "      <td>1</td>\n",
       "      <td>0</td>\n",
       "      <td>1</td>\n",
       "      <td>0</td>\n",
       "      <td>0</td>\n",
       "      <td>0</td>\n",
       "      <td>0</td>\n",
       "      <td>0</td>\n",
       "    </tr>\n",
       "    <tr>\n",
       "      <td>1</td>\n",
       "      <td>39738481224681</td>\n",
       "      <td>0.0</td>\n",
       "      <td>0</td>\n",
       "      <td>1</td>\n",
       "      <td>0</td>\n",
       "      <td>0</td>\n",
       "      <td>1</td>\n",
       "      <td>0</td>\n",
       "      <td>0</td>\n",
       "      <td>0</td>\n",
       "      <td>...</td>\n",
       "      <td>0</td>\n",
       "      <td>0</td>\n",
       "      <td>0</td>\n",
       "      <td>0</td>\n",
       "      <td>0</td>\n",
       "      <td>0</td>\n",
       "      <td>1</td>\n",
       "      <td>0</td>\n",
       "      <td>0</td>\n",
       "      <td>0</td>\n",
       "    </tr>\n",
       "    <tr>\n",
       "      <td>2</td>\n",
       "      <td>73585230191399</td>\n",
       "      <td>0.0</td>\n",
       "      <td>0</td>\n",
       "      <td>1</td>\n",
       "      <td>0</td>\n",
       "      <td>0</td>\n",
       "      <td>0</td>\n",
       "      <td>0</td>\n",
       "      <td>1</td>\n",
       "      <td>0</td>\n",
       "      <td>...</td>\n",
       "      <td>1</td>\n",
       "      <td>0</td>\n",
       "      <td>1</td>\n",
       "      <td>0</td>\n",
       "      <td>1</td>\n",
       "      <td>0</td>\n",
       "      <td>0</td>\n",
       "      <td>0</td>\n",
       "      <td>0</td>\n",
       "      <td>0</td>\n",
       "    </tr>\n",
       "    <tr>\n",
       "      <td>3</td>\n",
       "      <td>87588448856385</td>\n",
       "      <td>0.0</td>\n",
       "      <td>0</td>\n",
       "      <td>1</td>\n",
       "      <td>0</td>\n",
       "      <td>0</td>\n",
       "      <td>0</td>\n",
       "      <td>0</td>\n",
       "      <td>1</td>\n",
       "      <td>0</td>\n",
       "      <td>...</td>\n",
       "      <td>1</td>\n",
       "      <td>0</td>\n",
       "      <td>1</td>\n",
       "      <td>0</td>\n",
       "      <td>1</td>\n",
       "      <td>0</td>\n",
       "      <td>0</td>\n",
       "      <td>0</td>\n",
       "      <td>0</td>\n",
       "      <td>0</td>\n",
       "    </tr>\n",
       "    <tr>\n",
       "      <td>4</td>\n",
       "      <td>149787903119437</td>\n",
       "      <td>0.0</td>\n",
       "      <td>0</td>\n",
       "      <td>1</td>\n",
       "      <td>0</td>\n",
       "      <td>0</td>\n",
       "      <td>0</td>\n",
       "      <td>0</td>\n",
       "      <td>1</td>\n",
       "      <td>0</td>\n",
       "      <td>...</td>\n",
       "      <td>1</td>\n",
       "      <td>0</td>\n",
       "      <td>1</td>\n",
       "      <td>0</td>\n",
       "      <td>1</td>\n",
       "      <td>0</td>\n",
       "      <td>0</td>\n",
       "      <td>0</td>\n",
       "      <td>0</td>\n",
       "      <td>0</td>\n",
       "    </tr>\n",
       "  </tbody>\n",
       "</table>\n",
       "<p>5 rows × 48 columns</p>\n",
       "</div>"
      ],
      "text/plain": [
       "     fullVisitorId  LogRevenue  Purchase  visits  (Other)  Affiliates  Direct  \\\n",
       "0   18966949534117         0.0         0       1        0           0       0   \n",
       "1   39738481224681         0.0         0       1        0           0       1   \n",
       "2   73585230191399         0.0         0       1        0           0       0   \n",
       "3   87588448856385         0.0         0       1        0           0       0   \n",
       "4  149787903119437         0.0         0       1        0           0       0   \n",
       "\n",
       "   Display  Organic Search  Paid Search  ...  trafSrc_isTrueDir_isNULL  \\\n",
       "0        0               1            0  ...                         1   \n",
       "1        0               0            0  ...                         0   \n",
       "2        0               1            0  ...                         1   \n",
       "3        0               1            0  ...                         1   \n",
       "4        0               1            0  ...                         1   \n",
       "\n",
       "   trafSrc_isTrueDir_True  trafSrc_kw_others  trafSrc_kw_isNULL  \\\n",
       "0                       0                  1                  0   \n",
       "1                       0                  0                  0   \n",
       "2                       0                  1                  0   \n",
       "3                       0                  1                  0   \n",
       "4                       0                  1                  0   \n",
       "\n",
       "   trafSrc_medium_org  trafSrc_medium_ref  trafSrc_medium_isNULL  \\\n",
       "0                   1                   0                      0   \n",
       "1                   0                   0                      1   \n",
       "2                   1                   0                      0   \n",
       "3                   1                   0                      0   \n",
       "4                   1                   0                      0   \n",
       "\n",
       "   trafSrc_medium_cpc  trafSrc_medium_aff  trafSrc_medium_cpm  \n",
       "0                   0                   0                   0  \n",
       "1                   0                   0                   0  \n",
       "2                   0                   0                   0  \n",
       "3                   0                   0                   0  \n",
       "4                   0                   0                   0  \n",
       "\n",
       "[5 rows x 48 columns]"
      ]
     },
     "execution_count": 63,
     "metadata": {},
     "output_type": "execute_result"
    }
   ],
   "source": [
    "t.head()"
   ]
  },
  {
   "cell_type": "code",
   "execution_count": 171,
   "metadata": {},
   "outputs": [],
   "source": [
    "train0 = pd.read_csv('final/train0.csv')\n",
    "train1 = pd.read_csv('final/train1.csv')\n",
    "train2 = pd.read_csv('final/train2.csv')\n",
    "train3 = pd.read_csv('final/train3.csv')\n",
    "train4 = pd.read_csv('final/train4.csv')\n",
    "train5 = pd.read_csv('final/train5.csv')\n",
    "train6 = pd.read_csv('final/train6.csv')\n",
    "train7 = pd.read_csv('final/train7.csv')\n",
    "train8 = pd.read_csv('final/train8.csv')\n",
    "train9 = pd.read_csv('final/train9.csv')\n",
    "train10 = pd.read_csv('final/train10.csv')\n",
    "train11 = pd.read_csv('final/train11.csv')\n",
    "train12 = pd.read_csv('final/train12.csv')"
   ]
  },
  {
   "cell_type": "code",
   "execution_count": 207,
   "metadata": {},
   "outputs": [],
   "source": [
    "training = pd.concat([train0, train1, train2, train3, train4, train5, train6, train7, train8, train9, train10, train11])"
   ]
  },
  {
   "cell_type": "code",
   "execution_count": 208,
   "metadata": {},
   "outputs": [
    {
     "data": {
      "text/plain": [
       "(3987993, 50)"
      ]
     },
     "execution_count": 208,
     "metadata": {},
     "output_type": "execute_result"
    }
   ],
   "source": [
    "training.shape"
   ]
  },
  {
   "cell_type": "code",
   "execution_count": 216,
   "metadata": {},
   "outputs": [
    {
     "data": {
      "text/plain": [
       "Purchase_y        6.000000\n",
       "LogRevenue_y    104.876985\n",
       "dtype: float64"
      ]
     },
     "execution_count": 216,
     "metadata": {},
     "output_type": "execute_result"
    }
   ],
   "source": [
    "training[['Purchase_y', 'LogRevenue_y']].sum()"
   ]
  },
  {
   "cell_type": "code",
   "execution_count": 217,
   "metadata": {},
   "outputs": [
    {
     "data": {
      "text/html": [
       "<div>\n",
       "<style scoped>\n",
       "    .dataframe tbody tr th:only-of-type {\n",
       "        vertical-align: middle;\n",
       "    }\n",
       "\n",
       "    .dataframe tbody tr th {\n",
       "        vertical-align: top;\n",
       "    }\n",
       "\n",
       "    .dataframe thead th {\n",
       "        text-align: right;\n",
       "    }\n",
       "</style>\n",
       "<table border=\"1\" class=\"dataframe\">\n",
       "  <thead>\n",
       "    <tr style=\"text-align: right;\">\n",
       "      <th></th>\n",
       "      <th>fullVisitorId</th>\n",
       "      <th>LogRevenue</th>\n",
       "      <th>Purchase</th>\n",
       "      <th>visits</th>\n",
       "      <th>(Other)</th>\n",
       "      <th>Affiliates</th>\n",
       "      <th>Direct</th>\n",
       "      <th>Display</th>\n",
       "      <th>Organic Search</th>\n",
       "      <th>Paid Search</th>\n",
       "      <th>...</th>\n",
       "      <th>trafSrc_kw_others</th>\n",
       "      <th>trafSrc_kw_isNULL</th>\n",
       "      <th>trafSrc_medium_org</th>\n",
       "      <th>trafSrc_medium_ref</th>\n",
       "      <th>trafSrc_medium_isNULL</th>\n",
       "      <th>trafSrc_medium_cpc</th>\n",
       "      <th>trafSrc_medium_aff</th>\n",
       "      <th>trafSrc_medium_cpm</th>\n",
       "      <th>LogRevenue_y</th>\n",
       "      <th>Purchase_y</th>\n",
       "    </tr>\n",
       "  </thead>\n",
       "  <tbody>\n",
       "    <tr>\n",
       "      <td>127469</td>\n",
       "      <td>4300826865196193354</td>\n",
       "      <td>0.0</td>\n",
       "      <td>0</td>\n",
       "      <td>17</td>\n",
       "      <td>0</td>\n",
       "      <td>0</td>\n",
       "      <td>0</td>\n",
       "      <td>0</td>\n",
       "      <td>17</td>\n",
       "      <td>0</td>\n",
       "      <td>...</td>\n",
       "      <td>1</td>\n",
       "      <td>15</td>\n",
       "      <td>1</td>\n",
       "      <td>0</td>\n",
       "      <td>0</td>\n",
       "      <td>1</td>\n",
       "      <td>0</td>\n",
       "      <td>0</td>\n",
       "      <td>16.906098</td>\n",
       "      <td>1.0</td>\n",
       "    </tr>\n",
       "    <tr>\n",
       "      <td>150899</td>\n",
       "      <td>5097087346105463693</td>\n",
       "      <td>0.0</td>\n",
       "      <td>0</td>\n",
       "      <td>8</td>\n",
       "      <td>0</td>\n",
       "      <td>0</td>\n",
       "      <td>0</td>\n",
       "      <td>1</td>\n",
       "      <td>7</td>\n",
       "      <td>0</td>\n",
       "      <td>...</td>\n",
       "      <td>3</td>\n",
       "      <td>5</td>\n",
       "      <td>3</td>\n",
       "      <td>0</td>\n",
       "      <td>0</td>\n",
       "      <td>0</td>\n",
       "      <td>0</td>\n",
       "      <td>0</td>\n",
       "      <td>17.117992</td>\n",
       "      <td>1.0</td>\n",
       "    </tr>\n",
       "    <tr>\n",
       "      <td>162026</td>\n",
       "      <td>5305823939074339121</td>\n",
       "      <td>0.0</td>\n",
       "      <td>0</td>\n",
       "      <td>1</td>\n",
       "      <td>0</td>\n",
       "      <td>0</td>\n",
       "      <td>0</td>\n",
       "      <td>0</td>\n",
       "      <td>1</td>\n",
       "      <td>0</td>\n",
       "      <td>...</td>\n",
       "      <td>0</td>\n",
       "      <td>1</td>\n",
       "      <td>0</td>\n",
       "      <td>0</td>\n",
       "      <td>0</td>\n",
       "      <td>0</td>\n",
       "      <td>0</td>\n",
       "      <td>0</td>\n",
       "      <td>18.119305</td>\n",
       "      <td>1.0</td>\n",
       "    </tr>\n",
       "    <tr>\n",
       "      <td>135190</td>\n",
       "      <td>4099631678878053818</td>\n",
       "      <td>0.0</td>\n",
       "      <td>0</td>\n",
       "      <td>19</td>\n",
       "      <td>0</td>\n",
       "      <td>0</td>\n",
       "      <td>2</td>\n",
       "      <td>0</td>\n",
       "      <td>0</td>\n",
       "      <td>0</td>\n",
       "      <td>...</td>\n",
       "      <td>2</td>\n",
       "      <td>17</td>\n",
       "      <td>1</td>\n",
       "      <td>1</td>\n",
       "      <td>1</td>\n",
       "      <td>1</td>\n",
       "      <td>0</td>\n",
       "      <td>0</td>\n",
       "      <td>16.587474</td>\n",
       "      <td>1.0</td>\n",
       "    </tr>\n",
       "    <tr>\n",
       "      <td>184933</td>\n",
       "      <td>5211936831694160345</td>\n",
       "      <td>0.0</td>\n",
       "      <td>0</td>\n",
       "      <td>1</td>\n",
       "      <td>0</td>\n",
       "      <td>0</td>\n",
       "      <td>0</td>\n",
       "      <td>0</td>\n",
       "      <td>1</td>\n",
       "      <td>0</td>\n",
       "      <td>...</td>\n",
       "      <td>0</td>\n",
       "      <td>1</td>\n",
       "      <td>0</td>\n",
       "      <td>0</td>\n",
       "      <td>0</td>\n",
       "      <td>0</td>\n",
       "      <td>0</td>\n",
       "      <td>0</td>\n",
       "      <td>17.686503</td>\n",
       "      <td>1.0</td>\n",
       "    </tr>\n",
       "    <tr>\n",
       "      <td>283606</td>\n",
       "      <td>7367993774068915456</td>\n",
       "      <td>0.0</td>\n",
       "      <td>0</td>\n",
       "      <td>3</td>\n",
       "      <td>0</td>\n",
       "      <td>0</td>\n",
       "      <td>3</td>\n",
       "      <td>0</td>\n",
       "      <td>0</td>\n",
       "      <td>0</td>\n",
       "      <td>...</td>\n",
       "      <td>1</td>\n",
       "      <td>2</td>\n",
       "      <td>1</td>\n",
       "      <td>0</td>\n",
       "      <td>1</td>\n",
       "      <td>0</td>\n",
       "      <td>1</td>\n",
       "      <td>0</td>\n",
       "      <td>18.459613</td>\n",
       "      <td>1.0</td>\n",
       "    </tr>\n",
       "  </tbody>\n",
       "</table>\n",
       "<p>6 rows × 50 columns</p>\n",
       "</div>"
      ],
      "text/plain": [
       "              fullVisitorId  LogRevenue  Purchase  visits  (Other)  \\\n",
       "127469  4300826865196193354         0.0         0      17        0   \n",
       "150899  5097087346105463693         0.0         0       8        0   \n",
       "162026  5305823939074339121         0.0         0       1        0   \n",
       "135190  4099631678878053818         0.0         0      19        0   \n",
       "184933  5211936831694160345         0.0         0       1        0   \n",
       "283606  7367993774068915456         0.0         0       3        0   \n",
       "\n",
       "        Affiliates  Direct  Display  Organic Search  Paid Search  ...  \\\n",
       "127469           0       0        0              17            0  ...   \n",
       "150899           0       0        1               7            0  ...   \n",
       "162026           0       0        0               1            0  ...   \n",
       "135190           0       2        0               0            0  ...   \n",
       "184933           0       0        0               1            0  ...   \n",
       "283606           0       3        0               0            0  ...   \n",
       "\n",
       "        trafSrc_kw_others  trafSrc_kw_isNULL  trafSrc_medium_org  \\\n",
       "127469                  1                 15                   1   \n",
       "150899                  3                  5                   3   \n",
       "162026                  0                  1                   0   \n",
       "135190                  2                 17                   1   \n",
       "184933                  0                  1                   0   \n",
       "283606                  1                  2                   1   \n",
       "\n",
       "        trafSrc_medium_ref  trafSrc_medium_isNULL  trafSrc_medium_cpc  \\\n",
       "127469                   0                      0                   1   \n",
       "150899                   0                      0                   0   \n",
       "162026                   0                      0                   0   \n",
       "135190                   1                      1                   1   \n",
       "184933                   0                      0                   0   \n",
       "283606                   0                      1                   0   \n",
       "\n",
       "        trafSrc_medium_aff  trafSrc_medium_cpm  LogRevenue_y  Purchase_y  \n",
       "127469                   0                   0     16.906098         1.0  \n",
       "150899                   0                   0     17.117992         1.0  \n",
       "162026                   0                   0     18.119305         1.0  \n",
       "135190                   0                   0     16.587474         1.0  \n",
       "184933                   0                   0     17.686503         1.0  \n",
       "283606                   1                   0     18.459613         1.0  \n",
       "\n",
       "[6 rows x 50 columns]"
      ]
     },
     "execution_count": 217,
     "metadata": {},
     "output_type": "execute_result"
    }
   ],
   "source": [
    "training[training['Purchase_y'] == 1]"
   ]
  },
  {
   "cell_type": "code",
   "execution_count": null,
   "metadata": {},
   "outputs": [],
   "source": []
  }
 ],
 "metadata": {
  "kernelspec": {
   "display_name": "Python 3",
   "language": "python",
   "name": "python3"
  },
  "language_info": {
   "codemirror_mode": {
    "name": "ipython",
    "version": 3
   },
   "file_extension": ".py",
   "mimetype": "text/x-python",
   "name": "python",
   "nbconvert_exporter": "python",
   "pygments_lexer": "ipython3",
   "version": "3.7.4"
  }
 },
 "nbformat": 4,
 "nbformat_minor": 4
}
